{
 "cells": [
  {
   "cell_type": "code",
   "execution_count": 1,
   "metadata": {},
   "outputs": [
    {
     "name": "stderr",
     "output_type": "stream",
     "text": [
      "/Users/daniel/Documents/Work/research/general-task-vectors/.venv/lib/python3.9/site-packages/tqdm/auto.py:21: TqdmWarning: IProgress not found. Please update jupyter and ipywidgets. See https://ipywidgets.readthedocs.io/en/stable/user_install.html\n",
      "  from .autonotebook import tqdm as notebook_tqdm\n"
     ]
    }
   ],
   "source": [
    "%load_ext autoreload\n",
    "%autoreload 2\n",
    "\n",
    "import torch\n",
    "import transformers\n",
    "import numpy as np\n",
    "from transformers import AutoModelForCausalLM, AutoTokenizer\n",
    "import matplotlib.pyplot as plt"
   ]
  },
  {
   "cell_type": "code",
   "execution_count": 2,
   "metadata": {},
   "outputs": [],
   "source": [
    "model_name = 'gpt2'"
   ]
  },
  {
   "cell_type": "markdown",
   "metadata": {},
   "source": [
    "# prompt management"
   ]
  },
  {
   "cell_type": "code",
   "execution_count": 3,
   "metadata": {},
   "outputs": [
    {
     "name": "stdout",
     "output_type": "stream",
     "text": [
      "dataset len: 2398\n"
     ]
    }
   ],
   "source": [
    "import json\n",
    "\n",
    "def load_json_dataset(json_path):\n",
    "    with open(json_path) as file:\n",
    "        dataset = json.load(file)\n",
    "    return dataset\n",
    "\n",
    "dataset = load_json_dataset('../data/antonym.json')\n",
    "dataset = list(map(lambda x: tuple(x.values()), dataset))\n",
    "print(f'dataset len: {len(dataset)}')\n",
    "\n",
    "\n",
    "####### TODO Delete #######\n",
    "dataset = dataset[:100]"
   ]
  },
  {
   "cell_type": "markdown",
   "metadata": {},
   "source": [
    "# models"
   ]
  },
  {
   "cell_type": "code",
   "execution_count": 4,
   "metadata": {},
   "outputs": [],
   "source": [
    "import sys\n",
    "sys.path.append('..')\n",
    "torch.set_grad_enabled(False)\n",
    "\n",
    "from src.utils.model_utils import load_gpt_model_and_tokenizer, set_seed, rsetattr, rgetattr\n",
    "from src.extraction import split_activation, extract_activations, get_mean_activations\n",
    "from src.utils.prompt_helper import build_prompt_txt, tokenize_from_template, tokenize_ICL\n",
    "set_seed(32)"
   ]
  },
  {
   "cell_type": "code",
   "execution_count": 5,
   "metadata": {},
   "outputs": [
    {
     "name": "stdout",
     "output_type": "stream",
     "text": [
      "GPT2LMHeadModel(\n",
      "  (transformer): GPT2Model(\n",
      "    (wte): Embedding(50257, 768)\n",
      "    (wpe): Embedding(1024, 768)\n",
      "    (drop): Dropout(p=0.1, inplace=False)\n",
      "    (h): ModuleList(\n",
      "      (0-11): 12 x GPT2Block(\n",
      "        (ln_1): LayerNorm((768,), eps=1e-05, elementwise_affine=True)\n",
      "        (attn): GPT2AttentionAltered(\n",
      "          (c_attn): Conv1D()\n",
      "          (c_proj): Conv1D()\n",
      "          (attn_dropout): Dropout(p=0.1, inplace=False)\n",
      "          (resid_dropout): Dropout(p=0.1, inplace=False)\n",
      "          (query): WrapperModule()\n",
      "          (key): WrapperModule()\n",
      "          (value): WrapperModule()\n",
      "        )\n",
      "        (ln_2): LayerNorm((768,), eps=1e-05, elementwise_affine=True)\n",
      "        (mlp): GPT2MLP(\n",
      "          (c_fc): Conv1D()\n",
      "          (c_proj): Conv1D()\n",
      "          (act): NewGELUActivation()\n",
      "          (dropout): Dropout(p=0.1, inplace=False)\n",
      "        )\n",
      "      )\n",
      "    )\n",
      "    (ln_f): LayerNorm((768,), eps=1e-05, elementwise_affine=True)\n",
      "  )\n",
      "  (lm_head): Linear(in_features=768, out_features=50257, bias=False)\n",
      ")\n",
      "{'n_heads': 12, 'n_layers': 12, 'd_model': 768, 'name': 'gpt2', 'vocab_size': 50257, 'layer_name': 'transformer.h', 'layer_hook_names': ['transformer.h.0', 'transformer.h.1', 'transformer.h.2', 'transformer.h.3', 'transformer.h.4', 'transformer.h.5', 'transformer.h.6', 'transformer.h.7', 'transformer.h.8', 'transformer.h.9', 'transformer.h.10', 'transformer.h.11'], 'attn_name': 'attn.c_proj', 'attn_hook_names': ['transformer.h.0.attn.c_proj', 'transformer.h.1.attn.c_proj', 'transformer.h.2.attn.c_proj', 'transformer.h.3.attn.c_proj', 'transformer.h.4.attn.c_proj', 'transformer.h.5.attn.c_proj', 'transformer.h.6.attn.c_proj', 'transformer.h.7.attn.c_proj', 'transformer.h.8.attn.c_proj', 'transformer.h.9.attn.c_proj', 'transformer.h.10.attn.c_proj', 'transformer.h.11.attn.c_proj']}\n"
     ]
    }
   ],
   "source": [
    "tokenizer = AutoTokenizer.from_pretrained(model_name)\n",
    "model, config = load_gpt_model_and_tokenizer(model_name)\n",
    "print(model)\n",
    "print(config)"
   ]
  },
  {
   "cell_type": "markdown",
   "metadata": {},
   "source": [
    "Calculate the average of the activation on the dataset to grasp any pattern that is task-dependant and not token-dependant \n",
    "\n",
    "Activations have the following shape (num_layers, num_heads, seq_len, d_head), being each OV circuit output.\n",
    "\n",
    "Still to answer:\n",
    "- How this is connected to the residual stream?"
   ]
  },
  {
   "cell_type": "markdown",
   "metadata": {},
   "source": [
    "Trying to use [nnsight](https://github.com/JadenFiotto-Kaufman/nnsight) and explore to know how it works"
   ]
  },
  {
   "cell_type": "code",
   "execution_count": 6,
   "metadata": {},
   "outputs": [
    {
     "name": "stdout",
     "output_type": "stream",
     "text": [
      "<|endoftext|>Q:flawed\n",
      "A:perfect\n",
      "\n",
      "Q:orthodox\n",
      "A:unorthodox\n",
      "\n",
      "Q:true\n",
      "A:\n",
      "false\n",
      "\n",
      "tensor([50256,    48,    25,  2704, 36825,   198,    32,    25, 25833,   628,\n",
      "           48,    25, 42539,   198,    32,    25,   403, 42539,   628,    48,\n",
      "           25,  7942,   198,    32,    25])\n",
      "[0, 1, 2, 4, 5, 6, 7, 8, 9, 10, 11, 12, 13, 14, 15, 17, 18, 19, 20, 21, 22, 23, 24]\n"
     ]
    }
   ],
   "source": [
    "# select number of ICL examples\n",
    "ICL_examples = 2\n",
    "\n",
    "###### TODO: REMEMBER TO SPLIT IN TRAIN and TEST####\n",
    "\n",
    "tok_ret, ids_ret, labels = tokenize_ICL(tokenizer, ICL_examples = ICL_examples, dataset = dataset)\n",
    "print(tokenizer.decode(tok_ret[0]))\n",
    "print(labels[0])\n",
    "print()\n",
    "print(tok_ret[0])\n",
    "print(ids_ret[0])"
   ]
  },
  {
   "cell_type": "markdown",
   "metadata": {},
   "source": [
    "___\n"
   ]
  },
  {
   "cell_type": "code",
   "execution_count": 7,
   "metadata": {},
   "outputs": [
    {
     "name": "stderr",
     "output_type": "stream",
     "text": [
      "huggingface/tokenizers: The current process just got forked, after parallelism has already been used. Disabling parallelism to avoid deadlocks...\n",
      "To disable this warning, you can either:\n",
      "\t- Avoid using `tokenizers` before the fork if possible\n",
      "\t- Explicitly set the environment variable TOKENIZERS_PARALLELISM=(true | false)\n",
      "extracting activations:   0%|          | 0/33 [00:00<?, ?it/s]You're using a GPT2TokenizerFast tokenizer. Please note that with a fast tokenizer, using the `__call__` method is faster than using a method to encode the text followed by a call to the `pad` method to get a padded encoding.\n",
      "extracting activations: 100%|██████████| 33/33 [00:14<00:00,  2.23it/s]\n"
     ]
    },
    {
     "data": {
      "text/plain": [
       "torch.Size([12, 12, 23, 64])"
      ]
     },
     "execution_count": 7,
     "metadata": {},
     "output_type": "execute_result"
    }
   ],
   "source": [
    "mean_activations, outputs = get_mean_activations(\n",
    "    tokenized_prompts=tok_ret,\n",
    "    important_ids=ids_ret,\n",
    "    model=model,\n",
    "    config=config,\n",
    ")\n",
    "mean_activations.shape"
   ]
  },
  {
   "cell_type": "markdown",
   "metadata": {},
   "source": [
    "compute indirect effect"
   ]
  },
  {
   "cell_type": "code",
   "execution_count": 8,
   "metadata": {},
   "outputs": [],
   "source": [
    "import random\n",
    "\n",
    "def randomize_dataset(dataset):\n",
    "    # shuffle the second column (labels) and copy the original column to a third one keeping the correct label\n",
    "    shuffled = list(map(lambda x: x[1], dataset))\n",
    "    random.shuffle(shuffled)\n",
    "\n",
    "    new_dataset = list(\n",
    "        zip(\n",
    "            list(map(lambda x: x[0], dataset)),     # input x\n",
    "            shuffled,     # new shuffled label (that make no sense)\n",
    "            list(map(lambda x: x[1], dataset)),     # old correct label\n",
    "    ))\n",
    "    \n",
    "    return new_dataset"
   ]
  },
  {
   "cell_type": "code",
   "execution_count": 9,
   "metadata": {},
   "outputs": [
    {
     "ename": "SyntaxError",
     "evalue": "invalid syntax (3463502032.py, line 38)",
     "output_type": "error",
     "traceback": [
      "\u001b[0;36m  Cell \u001b[0;32mIn[9], line 38\u001b[0;36m\u001b[0m\n\u001b[0;31m    )\u001b[0m\n\u001b[0m    ^\u001b[0m\n\u001b[0;31mSyntaxError\u001b[0m\u001b[0;31m:\u001b[0m invalid syntax\n"
     ]
    }
   ],
   "source": [
    "# parameters: dataset, mean_activations, model, config, tokenizer, \n",
    "# n_shots: Number of shots in each in-context prompt\n",
    "# n_trials: Number of in-context prompts to average over\n",
    "\n",
    "\n",
    "def compute_indirect_effect(dataset, mean_activations, model, config, tokenizer):\n",
    "    # randomize prompts to make the model unable to guess the correct answer\n",
    "    randomized_dataset = randomize_dataset(dataset)\n",
    "\n",
    "    prompts_and_infos = tokenize_ICL(\n",
    "        tokenizer, \n",
    "        ICL_examples = ICL_examples, \n",
    "        dataset = randomized_dataset\n",
    "    )\n",
    "\n",
    "    # probabilities over vocab from the original model\n",
    "    probs_original = torch.zeros([len(randomized_dataset), config['vocab_size']])\n",
    "    probs_edited = torch.zeros([len(randomized_dataset), config['n_layers'], config['n_heads'], config['vocab_size']])\n",
    "\n",
    "    for idx, (tokenized_prompt, important_ids, correct_label) in enumerate(zip(*prompts_and_infos)):\n",
    "        \n",
    "        # take the original result from the model (probability of correct response token y)\n",
    "        with model.invoke(rand_tok_ret) as invoker:\n",
    "            pass # no changes to make in the forward pass\n",
    "        logits = invoker.output.logits\n",
    "        logits = logits[0,-1,:] # select only the predicted token (i.e. the final token)\n",
    "        # store the probabilities for each token in vocab\n",
    "        probs_original[idx] = logits.softmax(dim=-1)\n",
    "\n",
    "        # for each layer i, for each head j in the model\n",
    "        for layer_i in config['n_layers']:\n",
    "            for head_j in config['n_head']:\n",
    "                # TODO: controlla che questo assegnamento non sia un problema \n",
    "                probs_edited[idx, layer_i, head_j] = replace_heads_w_avg(\n",
    "                    layers_heads = [layer_i, head_j],\n",
    "                    avg_activations = \n",
    "                    \n",
    "                )\n",
    "        #      substitute the head with the specific average activation\n",
    "        \n",
    "        # CIE(ij) = probability of correct_label token y (w/ modified model) - probability of correct_label token y (w/ original model)\n",
    "        #      e.g. CIE(ij) = 0.9 - 0.1 = 0.8      head has great effect\n",
    "        #      e.g. CIE(ij) = 0.3 - 0.1 = 0.2      head does not influence too much the output\n",
    "\n",
    "\n",
    "    \n",
    "    prob_original_model = 0\n",
    "    return rand_tok_ret[0], rand_ids_ret[0]\n",
    "\n",
    "\n",
    "    \n",
    "rand_tok_ret, rand_ids_ret  = compute_indirect_effect(\n",
    "    dataset=dataset[:200], \n",
    "    mean_activation=mean_activations,\n",
    "    model=model,\n",
    "    config=config,\n",
    "    tokenizer=tokenizer,\n",
    ")"
   ]
  },
  {
   "cell_type": "code",
   "execution_count": 23,
   "metadata": {},
   "outputs": [
    {
     "name": "stdout",
     "output_type": "stream",
     "text": [
      "B: Predicted token id 1865, wich corresponds to \" yet\" [prob.: 0.048]\n"
     ]
    }
   ],
   "source": [
    "def replace_heads_w_avg(tokenized_prompt: torch.tensor, important_ids: list[int], layers_heads: list[tuple[int, int]], avg_activations: list[torch.tensor], model, config):\n",
    "    \"\"\"Replace the activation of specific heads (listed in layers_heads) with the avg_activation for each specific head (listed in avg_activations). \n",
    "    Than compute the output of the model with all the new activations\n",
    "\n",
    "    Args:\n",
    "        tokenized_prompt (torch.tensor): tokenized prompt (single batch)\n",
    "        important_ids (list[int]): list of important indexes i.e. the tokens where the average must be substituted\n",
    "        layers_heads (list[tuple[int, int]]): list of tuples each containing a layer index, head index\n",
    "        avg_activations (list[torch.tensor]): list of activations (`size: (seq_len, d_head)`) for each head listed in layers_heads. The length must be the same of layers_heads\n",
    "        model (): model\n",
    "        config (): model's config\n",
    "\n",
    "    Returns:\n",
    "        torch.Tensor: model's probabilities over vocab (post-softmax) with the replaced activations\n",
    "    \"\"\"\n",
    "\n",
    "    assert len(layers_heads) == len(avg_activations), f'layers_heads and avg_activations must have the same length. Got {len(layers_heads)} and {len(avg_activations)}'\n",
    "\n",
    "\n",
    "    d_head = config['d_model'] // config['n_heads']\n",
    "\n",
    "    with model.invoke(tokenized_prompt) as invoker:\n",
    "        for idx, (num_layer, num_head) in enumerate(layers_heads):\n",
    "\n",
    "            hidden_state_pre = rgetattr(model, config['attn_hook_names'][num_layer]).output.clone()\n",
    "            rgetattr(model, config['attn_hook_names'][num_layer]).output[\n",
    "                :, :, (num_head * d_head) : ((num_head + 1) * d_head)                # select the head (output shape is torch.Size([batch, seq_len, d_model]))\n",
    "            ][:, important_ids, :] = avg_activations[idx].unsqueeze(0)          # substitute only the important indexes (unsqueeze for adding the batch dimension)\n",
    "            \n",
    "            hidden_state_post = rgetattr(model, config['attn_hook_names'][num_layer]).output.save()\n",
    "        # store the output probabilities\n",
    "    probs = invoker.output.logits[0,-1,:].softmax(dim=-1)\n",
    "    return probs, hidden_state_pre, hidden_state_post\n",
    "\n",
    "\n",
    "tokenized = tokenizer('I am not', return_tensors='pt')['input_ids']\n",
    "important_ids = np.arange(len(tokenized[0]))       # tutto il prompt\n",
    "\n",
    "b, pre, post = replace_heads_w_avg(\n",
    "    tokenized_prompt=tokenized,\n",
    "    important_ids=[important_ids],\n",
    "    layers_heads=[(x,y) for x in range(0,12) for y in range(0,12)],       # all heads of the first layer\n",
    "    avg_activations=[\n",
    "        torch.zeros(size=(len(tokenized[0]), config['d_model'] // config['n_heads'])) \n",
    "        for _ in range(0, 12 * 12)\n",
    "    ],      # zero-out layer\n",
    "    model=model,\n",
    "    config=config,\n",
    ")\n",
    "print(f'B: Predicted token id {b.argmax()}, wich corresponds to \"{tokenizer.decode(b.argmax())}\" [prob.: {b[b.argmax()]:.3f}]')"
   ]
  },
  {
   "cell_type": "code",
   "execution_count": 26,
   "metadata": {},
   "outputs": [
    {
     "ename": "ValueError",
     "evalue": "Accessing Proxy value before it's been set.",
     "output_type": "error",
     "traceback": [
      "\u001b[0;31m---------------------------------------------------------------------------\u001b[0m",
      "\u001b[0;31mValueError\u001b[0m                                Traceback (most recent call last)",
      "Cell \u001b[0;32mIn[26], line 1\u001b[0m\n\u001b[0;32m----> 1\u001b[0m \u001b[43mpre\u001b[49m\u001b[38;5;241;43m.\u001b[39;49m\u001b[43mvalue\u001b[49m\n",
      "File \u001b[0;32m~/Documents/Work/research/general-task-vectors/.venv/lib/python3.9/site-packages/nnsight/intervention.py:128\u001b[0m, in \u001b[0;36mInterventionProxy.value\u001b[0;34m(self)\u001b[0m\n\u001b[1;32m    121\u001b[0m \u001b[38;5;250m\u001b[39m\u001b[38;5;124;03m\"\"\"Property to return the value of this proxy's node.\u001b[39;00m\n\u001b[1;32m    122\u001b[0m \n\u001b[1;32m    123\u001b[0m \u001b[38;5;124;03mReturns:\u001b[39;00m\n\u001b[1;32m    124\u001b[0m \u001b[38;5;124;03m    Any: The stored value of the proxy, populated during execution of the model.\u001b[39;00m\n\u001b[1;32m    125\u001b[0m \u001b[38;5;124;03m\"\"\"\u001b[39;00m\n\u001b[1;32m    127\u001b[0m \u001b[38;5;28;01mif\u001b[39;00m \u001b[38;5;28mself\u001b[39m\u001b[38;5;241m.\u001b[39mnode\u001b[38;5;241m.\u001b[39mvalue \u001b[38;5;129;01mis\u001b[39;00m inspect\u001b[38;5;241m.\u001b[39m_empty:\n\u001b[0;32m--> 128\u001b[0m     \u001b[38;5;28;01mraise\u001b[39;00m \u001b[38;5;167;01mValueError\u001b[39;00m(\u001b[38;5;124m\"\u001b[39m\u001b[38;5;124mAccessing Proxy value before it\u001b[39m\u001b[38;5;124m'\u001b[39m\u001b[38;5;124ms been set.\u001b[39m\u001b[38;5;124m\"\u001b[39m)\n\u001b[1;32m    130\u001b[0m \u001b[38;5;28;01mreturn\u001b[39;00m \u001b[38;5;28mself\u001b[39m\u001b[38;5;241m.\u001b[39mnode\u001b[38;5;241m.\u001b[39mvalue\n",
      "\u001b[0;31mValueError\u001b[0m: Accessing Proxy value before it's been set."
     ]
    }
   ],
   "source": [
    "pre.value"
   ]
  },
  {
   "cell_type": "code",
   "execution_count": 25,
   "metadata": {},
   "outputs": [
    {
     "ename": "ValueError",
     "evalue": "Accessing Proxy value before it's been set.",
     "output_type": "error",
     "traceback": [
      "\u001b[0;31m---------------------------------------------------------------------------\u001b[0m",
      "\u001b[0;31mValueError\u001b[0m                                Traceback (most recent call last)",
      "Cell \u001b[0;32mIn[25], line 1\u001b[0m\n\u001b[0;32m----> 1\u001b[0m torch\u001b[38;5;241m.\u001b[39mequal(\u001b[43mpre\u001b[49m\u001b[38;5;241;43m.\u001b[39;49m\u001b[43mvalue\u001b[49m, post\u001b[38;5;241m.\u001b[39mvalue)\n",
      "File \u001b[0;32m~/Documents/Work/research/general-task-vectors/.venv/lib/python3.9/site-packages/nnsight/intervention.py:128\u001b[0m, in \u001b[0;36mInterventionProxy.value\u001b[0;34m(self)\u001b[0m\n\u001b[1;32m    121\u001b[0m \u001b[38;5;250m\u001b[39m\u001b[38;5;124;03m\"\"\"Property to return the value of this proxy's node.\u001b[39;00m\n\u001b[1;32m    122\u001b[0m \n\u001b[1;32m    123\u001b[0m \u001b[38;5;124;03mReturns:\u001b[39;00m\n\u001b[1;32m    124\u001b[0m \u001b[38;5;124;03m    Any: The stored value of the proxy, populated during execution of the model.\u001b[39;00m\n\u001b[1;32m    125\u001b[0m \u001b[38;5;124;03m\"\"\"\u001b[39;00m\n\u001b[1;32m    127\u001b[0m \u001b[38;5;28;01mif\u001b[39;00m \u001b[38;5;28mself\u001b[39m\u001b[38;5;241m.\u001b[39mnode\u001b[38;5;241m.\u001b[39mvalue \u001b[38;5;129;01mis\u001b[39;00m inspect\u001b[38;5;241m.\u001b[39m_empty:\n\u001b[0;32m--> 128\u001b[0m     \u001b[38;5;28;01mraise\u001b[39;00m \u001b[38;5;167;01mValueError\u001b[39;00m(\u001b[38;5;124m\"\u001b[39m\u001b[38;5;124mAccessing Proxy value before it\u001b[39m\u001b[38;5;124m'\u001b[39m\u001b[38;5;124ms been set.\u001b[39m\u001b[38;5;124m\"\u001b[39m)\n\u001b[1;32m    130\u001b[0m \u001b[38;5;28;01mreturn\u001b[39;00m \u001b[38;5;28mself\u001b[39m\u001b[38;5;241m.\u001b[39mnode\u001b[38;5;241m.\u001b[39mvalue\n",
      "\u001b[0;31mValueError\u001b[0m: Accessing Proxy value before it's been set."
     ]
    }
   ],
   "source": [
    "torch.equal(pre.value, post.value)"
   ]
  },
  {
   "cell_type": "code",
   "execution_count": 22,
   "metadata": {},
   "outputs": [
    {
     "name": "stdout",
     "output_type": "stream",
     "text": [
      "tensor([[[ 0.0505, -0.1728, -0.1690,  ..., -1.0096,  0.1280, -1.0687],\n",
      "         [ 8.7495,  2.9057,  5.3024,  ..., -8.0418,  1.2964, -2.8677],\n",
      "         [ 0.2960,  4.6686, -3.6642,  ...,  0.2391, -2.6064,  3.2263],\n",
      "         ...,\n",
      "         [ 2.1537,  6.8917,  3.8651,  ...,  0.0588, -1.9866,  5.9188],\n",
      "         [-0.4460,  7.4285, -9.3065,  ...,  2.0528, -2.7947,  0.5556],\n",
      "         [ 6.6286,  1.7258,  4.7969,  ...,  7.6714,  3.0682,  2.0481]]])\n",
      "tensor([[[ 0.0746, -0.1995, -0.1431,  ..., -1.0120,  0.0801, -1.1020],\n",
      "         [ 8.7936,  2.9738,  5.2735,  ..., -8.0207,  1.2858, -2.8587],\n",
      "         [ 0.3195,  4.6480, -3.6528,  ...,  0.2489, -2.6361,  3.1970],\n",
      "         ...,\n",
      "         [ 2.1745,  6.8751,  3.8343,  ...,  0.0260, -2.0636,  5.9154],\n",
      "         [-0.4704,  7.4231, -9.2473,  ...,  1.9874, -2.8278,  0.6054],\n",
      "         [ 6.6429,  1.6878,  4.8316,  ...,  7.6684,  3.0681,  2.1042]]])\n"
     ]
    },
    {
     "data": {
      "text/plain": [
       "False"
      ]
     },
     "execution_count": 22,
     "metadata": {},
     "output_type": "execute_result"
    }
   ],
   "source": [
    "with model.invoke('The Eiffel Tower is in the city of') as invoker:\n",
    "        hidden_states_pre = model.transformer.h[-1].output[0][:].clone().save()\n",
    "        noise = (0.001**0.5)*torch.randn(hidden_states_pre.shape)\n",
    "        model.transformer.h[-1].output[0][:] = hidden_states_pre + noise\n",
    "        hidden_states_post = model.transformer.h[-1].output[0][:].save()\n",
    "\n",
    "print(hidden_states_pre.value)\n",
    "print(hidden_states_post.value)\n",
    "torch.equal(hidden_states_pre.value, hidden_states_post.value)"
   ]
  }
 ],
 "metadata": {
  "kernelspec": {
   "display_name": ".venv",
   "language": "python",
   "name": "python3"
  },
  "language_info": {
   "codemirror_mode": {
    "name": "ipython",
    "version": 3
   },
   "file_extension": ".py",
   "mimetype": "text/x-python",
   "name": "python",
   "nbconvert_exporter": "python",
   "pygments_lexer": "ipython3",
   "version": "3.9.15"
  }
 },
 "nbformat": 4,
 "nbformat_minor": 2
}
