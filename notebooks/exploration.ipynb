{
 "cells": [
  {
   "cell_type": "code",
   "execution_count": 91,
   "metadata": {},
   "outputs": [
    {
     "name": "stdout",
     "output_type": "stream",
     "text": [
      "The autoreload extension is already loaded. To reload it, use:\n",
      "  %reload_ext autoreload\n"
     ]
    }
   ],
   "source": [
    "%load_ext autoreload\n",
    "%autoreload 2\n",
    "\n",
    "import torch\n",
    "import transformers\n",
    "from transformers import AutoModelForCausalLM, AutoTokenizer\n",
    "import matplotlib.pyplot as plt"
   ]
  },
  {
   "cell_type": "code",
   "execution_count": 324,
   "metadata": {},
   "outputs": [],
   "source": [
    "model_name = 'gpt2'"
   ]
  },
  {
   "cell_type": "markdown",
   "metadata": {},
   "source": [
    "# prompt management"
   ]
  },
  {
   "cell_type": "code",
   "execution_count": 325,
   "metadata": {},
   "outputs": [
    {
     "name": "stdout",
     "output_type": "stream",
     "text": [
      "dataset len: 2398\n"
     ]
    },
    {
     "data": {
      "text/plain": [
       "[('flawed', 'perfect'),\n",
       " ('orthodox', 'unorthodox'),\n",
       " ('true', 'false'),\n",
       " ('daily', 'nightly'),\n",
       " ('distribution', 'concentration'),\n",
       " ('valid', 'invalid'),\n",
       " ('expand', 'contract'),\n",
       " ('practical', 'impractical'),\n",
       " ('privilege', 'disadvantage'),\n",
       " ('mammoth', 'tiny')]"
      ]
     },
     "execution_count": 325,
     "metadata": {},
     "output_type": "execute_result"
    }
   ],
   "source": [
    "import json\n",
    "\n",
    "def load_json_dataset(json_path):\n",
    "    with open(json_path) as file:\n",
    "        dataset = json.load(file)\n",
    "    return dataset\n",
    "\n",
    "dataset = load_json_dataset('../data/antonym.json')\n",
    "dataset = list(map(lambda x: tuple(x.values()), dataset))\n",
    "print(f'dataset len: {len(dataset)}')\n",
    "dataset[:10]"
   ]
  },
  {
   "cell_type": "markdown",
   "metadata": {},
   "source": [
    "# models"
   ]
  },
  {
   "cell_type": "code",
   "execution_count": 326,
   "metadata": {},
   "outputs": [],
   "source": [
    "import sys\n",
    "sys.path.append('..')\n",
    "torch.set_grad_enabled(False)\n",
    "\n",
    "from src.utils.model_utils import load_gpt_model_and_tokenizer, set_seed, get_submodule\n",
    "from src.extraction import split_activation, extract_activations, get_mean_activations\n",
    "from src.utils.prompt_helper import build_prompt_txt, tokenize_from_template, tokenize_ICL\n",
    "set_seed(32)"
   ]
  },
  {
   "cell_type": "code",
   "execution_count": 327,
   "metadata": {},
   "outputs": [
    {
     "name": "stdout",
     "output_type": "stream",
     "text": [
      "GPT2LMHeadModel(\n",
      "  (transformer): GPT2Model(\n",
      "    (wte): Embedding(50257, 768)\n",
      "    (wpe): Embedding(1024, 768)\n",
      "    (drop): Dropout(p=0.1, inplace=False)\n",
      "    (h): ModuleList(\n",
      "      (0-11): 12 x GPT2Block(\n",
      "        (ln_1): LayerNorm((768,), eps=1e-05, elementwise_affine=True)\n",
      "        (attn): GPT2AttentionAltered(\n",
      "          (c_attn): Conv1D()\n",
      "          (c_proj): Conv1D()\n",
      "          (attn_dropout): Dropout(p=0.1, inplace=False)\n",
      "          (resid_dropout): Dropout(p=0.1, inplace=False)\n",
      "          (query): WrapperModule()\n",
      "          (key): WrapperModule()\n",
      "          (value): WrapperModule()\n",
      "        )\n",
      "        (ln_2): LayerNorm((768,), eps=1e-05, elementwise_affine=True)\n",
      "        (mlp): GPT2MLP(\n",
      "          (c_fc): Conv1D()\n",
      "          (c_proj): Conv1D()\n",
      "          (act): NewGELUActivation()\n",
      "          (dropout): Dropout(p=0.1, inplace=False)\n",
      "        )\n",
      "      )\n",
      "    )\n",
      "    (ln_f): LayerNorm((768,), eps=1e-05, elementwise_affine=True)\n",
      "  )\n",
      "  (lm_head): Linear(in_features=768, out_features=50257, bias=False)\n",
      ")\n",
      "{'n_heads': 12, 'n_layer': 12, 'd_model': 768, 'name': 'gpt2', 'layer_name': 'transformer.h', 'layer_hook_names': ['transformer.h.0', 'transformer.h.1', 'transformer.h.2', 'transformer.h.3', 'transformer.h.4', 'transformer.h.5', 'transformer.h.6', 'transformer.h.7', 'transformer.h.8', 'transformer.h.9', 'transformer.h.10', 'transformer.h.11'], 'attn_name': 'attn.c_proj', 'attn_hook_names': ['transformer.h.0.attn.c_proj', 'transformer.h.1.attn.c_proj', 'transformer.h.2.attn.c_proj', 'transformer.h.3.attn.c_proj', 'transformer.h.4.attn.c_proj', 'transformer.h.5.attn.c_proj', 'transformer.h.6.attn.c_proj', 'transformer.h.7.attn.c_proj', 'transformer.h.8.attn.c_proj', 'transformer.h.9.attn.c_proj', 'transformer.h.10.attn.c_proj', 'transformer.h.11.attn.c_proj']}\n"
     ]
    }
   ],
   "source": [
    "tokenizer = AutoTokenizer.from_pretrained(model_name)\n",
    "model, config = load_gpt_model_and_tokenizer(model_name)\n",
    "print(model)\n",
    "print(config)"
   ]
  },
  {
   "cell_type": "markdown",
   "metadata": {},
   "source": [
    "Calculate the average of the activation on the dataset to grasp any pattern that is task-dependant and not token-dependant \n",
    "\n",
    "Activations have the following shape (num_layers, num_heads, seq_len, d_head), being each OV circuit output.\n",
    "\n",
    "Still to answer:\n",
    "- How this is connected to the residual stream?"
   ]
  },
  {
   "cell_type": "markdown",
   "metadata": {},
   "source": [
    "Trying to use [nnsight](https://github.com/JadenFiotto-Kaufman/nnsight) and explore to know how it works"
   ]
  },
  {
   "cell_type": "code",
   "execution_count": 255,
   "metadata": {},
   "outputs": [
    {
     "name": "stdout",
     "output_type": "stream",
     "text": [
      "<|endoftext|>Q:flawed\n",
      "A:perfect\n",
      "\n",
      "Q:orthodox\n",
      "A:unorthodox\n",
      "\n",
      "Q:true\n",
      "A:\n",
      "false\n",
      "\n",
      "tensor([50256,    48,    25,  2704, 36825,   198,    32,    25, 25833,   628,\n",
      "           48,    25, 42539,   198,    32,    25,   403, 42539,   628,    48,\n",
      "           25,  7942,   198,    32,    25])\n",
      "[0, 1, 2, 4, 5, 6, 7, 8, 9, 10, 11, 12, 13, 14, 15, 17, 18, 19, 20, 21, 22, 23, 24]\n"
     ]
    }
   ],
   "source": [
    "# select number of ICL examples\n",
    "ICL_examples = 2\n",
    "\n",
    "tok_ret, ids_ret, labels = tokenize_ICL(tokenizer, ICL_examples = ICL_examples, dataset = dataset)\n",
    "print(tokenizer.decode(tok_ret[0]))\n",
    "print(labels[0])\n",
    "print()\n",
    "print(tok_ret[0])\n",
    "print(ids_ret[0])"
   ]
  },
  {
   "cell_type": "markdown",
   "metadata": {},
   "source": [
    "___\n"
   ]
  },
  {
   "cell_type": "code",
   "execution_count": 152,
   "metadata": {},
   "outputs": [
    {
     "name": "stderr",
     "output_type": "stream",
     "text": [
      "Setting `pad_token_id` to `eos_token_id`:50256 for open-end generation.\n",
      "Setting `pad_token_id` to `eos_token_id`:50256 for open-end generation.\n",
      "Setting `pad_token_id` to `eos_token_id`:50256 for open-end generation.\n",
      "Setting `pad_token_id` to `eos_token_id`:50256 for open-end generation.\n",
      "Setting `pad_token_id` to `eos_token_id`:50256 for open-end generation.\n",
      "Setting `pad_token_id` to `eos_token_id`:50256 for open-end generation.\n",
      "Setting `pad_token_id` to `eos_token_id`:50256 for open-end generation.\n"
     ]
    }
   ],
   "source": [
    "mean_activation, outputs = get_mean_activations(\n",
    "    tokenized_prompts=tok_ret,\n",
    "    important_ids=ids_ret,\n",
    "    model=model,\n",
    "    config=config,\n",
    ")\n",
    "mean_activation.shape"
   ]
  },
  {
   "cell_type": "markdown",
   "metadata": {},
   "source": [
    "compute indirect effect"
   ]
  },
  {
   "cell_type": "code",
   "execution_count": 234,
   "metadata": {},
   "outputs": [],
   "source": [
    "import random\n",
    "\n",
    "def randomize_dataset(dataset):\n",
    "    # shuffle the second column (labels) and copy the original column to a third one keeping the correct label\n",
    "    shuffled = list(map(lambda x: x[1], dataset))\n",
    "    random.shuffle(shuffled)\n",
    "\n",
    "    new_dataset = list(\n",
    "        zip(\n",
    "            list(map(lambda x: x[0], dataset)),     # input x\n",
    "            shuffled,     # new shuffled label (that make no sense)\n",
    "            list(map(lambda x: x[1], dataset)),     # old correct label\n",
    "    ))\n",
    "    \n",
    "    return new_dataset"
   ]
  },
  {
   "cell_type": "code",
   "execution_count": 278,
   "metadata": {},
   "outputs": [
    {
     "name": "stdout",
     "output_type": "stream",
     "text": [
      "invalid\n",
      "<|endoftext|>Q:daily\n",
      "A:empty\n",
      "\n",
      "Q:distribution\n",
      "A:con\n",
      "\n",
      "Q:valid\n",
      "A:\n"
     ]
    }
   ],
   "source": []
  },
  {
   "cell_type": "code",
   "execution_count": 331,
   "metadata": {},
   "outputs": [],
   "source": [
    "# parameters: dataset, mean_activations, model, config, tokenizer, \n",
    "# n_shots: Number of shots in each in-context prompt\n",
    "# n_trials: Number of in-context prompts to average over\n",
    "\n",
    "\n",
    "def compute_indirect_effect(dataset, mean_activation, model, config, tokenizer):\n",
    "    # randomize prompts to make the model unable to guess the correct answer\n",
    "    randomized_dataset = randomize_dataset(dataset)\n",
    "\n",
    "    prompts_and_infos = tokenize_ICL(\n",
    "        tokenizer, \n",
    "        ICL_examples = ICL_examples, \n",
    "        dataset = randomized_dataset\n",
    "    )\n",
    "\n",
    "    # probabilities over vocab from the original model\n",
    "    probs_original = torch.zeros([len(randomized_dataset), config['vocab_size']])\n",
    "\n",
    "    for idx, (tokenized_prompt, important_ids, correct_label) in enumerate(zip(*prompts_and_infos)):\n",
    "        \n",
    "        # take the original result from the model (probability of correct response token y)\n",
    "        with model.invoke(rand_tok_ret) as invoker:\n",
    "            pass # no changes to make in the forward pass\n",
    "        logits = invoker.output.logits\n",
    "        logits = logits[0,-1,:] # select only the predicted token (i.e. the final token)\n",
    "        # store the probabilities for each token in vocab\n",
    "        probs_original[idx] = logits.softmax(dim=-1)\n",
    "\n",
    "        # for each layer i, for each head j in the model\n",
    "        for layer_i in config['n_layer']:\n",
    "            for head_j in config['n_head']:\n",
    "                pass\n",
    "        #      substitute the head with the specific average activation\n",
    "        \n",
    "        # CIE(ij) = probability of correct_label token y (w/ modified model) - probability of correct_label token y (w/ original model)\n",
    "        #      e.g. CIE(ij) = 0.9 - 0.1 = 0.8      head has great effect\n",
    "        #      e.g. CIE(ij) = 0.3 - 0.1 = 0.2      head does not influence too much the output\n",
    "\n",
    "\n",
    "    \n",
    "    prob_original_model = 0\n",
    "    return rand_tok_ret[0], rand_ids_ret[0]\n",
    "\n",
    "\n",
    "    \n",
    "rand_tok_ret, rand_ids_ret  = compute_indirect_effect(\n",
    "    dataset=dataset[:200], \n",
    "    mean_activation=mean_activation,\n",
    "    model=model,\n",
    "    config=config,\n",
    "    tokenizer=tokenizer,\n",
    ")"
   ]
  },
  {
   "cell_type": "code",
   "execution_count": 344,
   "metadata": {},
   "outputs": [
    {
     "name": "stdout",
     "output_type": "stream",
     "text": [
      "torch.Size([1, 24, 50257])\n",
      "torch.Size([50257])\n",
      "torch.Size([50257])\n"
     ]
    }
   ],
   "source": [
    "\n",
    "with model.invoke(rand_tok_ret) as invoker:\n",
    "    pass # no changes to make in the forward pass\n",
    "\n",
    "logits = invoker.output.logits\n",
    "print(logits.shape)\n",
    "logits = logits[0,-1,:] # select only the predicted token (the final token)\n",
    "print(logits.shape)\n",
    "\n",
    "predicted = logits.softmax(dim=-1).argmax()\n",
    "tokenizer.encode()\n"
   ]
  },
  {
   "cell_type": "code",
   "execution_count": 354,
   "metadata": {},
   "outputs": [
    {
     "data": {
      "text/plain": [
       "'in'"
      ]
     },
     "execution_count": 354,
     "metadata": {},
     "output_type": "execute_result"
    }
   ],
   "source": [
    "tokenizer.decode(probs.argmax())"
   ]
  },
  {
   "cell_type": "code",
   "execution_count": 346,
   "metadata": {},
   "outputs": [
    {
     "data": {
      "text/plain": [
       "tensor(259, device='mps:0')"
      ]
     },
     "execution_count": 346,
     "metadata": {},
     "output_type": "execute_result"
    }
   ],
   "source": [
    "probs.argmax()"
   ]
  },
  {
   "cell_type": "code",
   "execution_count": 284,
   "metadata": {},
   "outputs": [
    {
     "data": {
      "text/plain": [
       "torch.Size([12, 12])"
      ]
     },
     "execution_count": 284,
     "metadata": {},
     "output_type": "execute_result"
    }
   ],
   "source": [
    "torch.zeros(size = [config['n_layer'], config['n_heads']]).shape"
   ]
  }
 ],
 "metadata": {
  "kernelspec": {
   "display_name": ".venv",
   "language": "python",
   "name": "python3"
  },
  "language_info": {
   "codemirror_mode": {
    "name": "ipython",
    "version": 3
   },
   "file_extension": ".py",
   "mimetype": "text/x-python",
   "name": "python",
   "nbconvert_exporter": "python",
   "pygments_lexer": "ipython3",
   "version": "3.9.15"
  }
 },
 "nbformat": 4,
 "nbformat_minor": 2
}
