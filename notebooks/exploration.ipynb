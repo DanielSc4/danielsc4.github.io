{
 "cells": [
  {
   "cell_type": "code",
   "execution_count": 1,
   "metadata": {},
   "outputs": [],
   "source": [
    "%load_ext autoreload\n",
    "%autoreload 2\n",
    "\n",
    "import torch\n",
    "import numpy as np\n",
    "from transformers import AutoModelForCausalLM, AutoTokenizer"
   ]
  },
  {
   "cell_type": "markdown",
   "metadata": {},
   "source": [
    "### Some configs"
   ]
  },
  {
   "cell_type": "code",
   "execution_count": 10,
   "metadata": {},
   "outputs": [],
   "source": [
    "MODEL_NAME = 'gpt2'\n",
    "MODEL_NAME = 'microsoft/phi-2'\n",
    "# MODEL_NAME = 'EleutherAI/pythia-1B'\n",
    "# MODEL_NAME = 'TinyLlama/TinyLlama-1.1B-Chat-v1.0'\n",
    "\n",
    "LOAD_IN_8BIT = False\n",
    "RELATIVE_PATH = '../'\n",
    "\n",
    "dataset_name = 'country-capital'\n",
    "# select number of ICL examples (query excluded)\n",
    "ICL_examples = 4\n",
    "debug = True"
   ]
  },
  {
   "cell_type": "markdown",
   "metadata": {},
   "source": [
    "### dataset"
   ]
  },
  {
   "cell_type": "code",
   "execution_count": 5,
   "metadata": {},
   "outputs": [
    {
     "name": "stdout",
     "output_type": "stream",
     "text": [
      "dataset len: 50\n"
     ]
    }
   ],
   "source": [
    "import json\n",
    "\n",
    "def load_json_dataset(json_path):\n",
    "    with open(json_path, encoding='utf-8') as file:\n",
    "        dataset = json.load(file)\n",
    "    return dataset\n",
    "\n",
    "dataset = load_json_dataset(f'{RELATIVE_PATH}data/{dataset_name}.json')\n",
    "dataset = list(map(lambda x: tuple(x.values()), dataset))\n",
    "\n",
    "if debug:\n",
    "    dataset = dataset[0:50]\n",
    "\n",
    "print(f'dataset len: {len(dataset)}')"
   ]
  },
  {
   "cell_type": "code",
   "execution_count": 7,
   "metadata": {},
   "outputs": [],
   "source": [
    "import sys\n",
    "sys.path.append('..')\n",
    "torch.set_grad_enabled(False)\n",
    "\n",
    "from src.utils.model_utils import load_gpt_model_and_tokenizer, set_seed\n",
    "from src.extraction import get_mean_activations\n",
    "from src.utils.prompt_helper import tokenize_ICL\n",
    "from src.intervention import compute_indirect_effect\n",
    "set_seed(32)"
   ]
  },
  {
   "cell_type": "code",
   "execution_count": 11,
   "metadata": {},
   "outputs": [
    {
     "name": "stderr",
     "output_type": "stream",
     "text": [
      "Special tokens have been added in the vocabulary, make sure the associated word embeddings are fine-tuned or trained.\n",
      "Special tokens have been added in the vocabulary, make sure the associated word embeddings are fine-tuned or trained.\n"
     ]
    }
   ],
   "source": [
    "model, tokenizer, config, device = load_gpt_model_and_tokenizer(MODEL_NAME, LOAD_IN_8BIT)\n",
    "tok_ret, ids_ret, correct_labels = tokenize_ICL(tokenizer, ICL_examples = ICL_examples, dataset = dataset)"
   ]
  },
  {
   "cell_type": "markdown",
   "metadata": {},
   "source": [
    "## Get activations and measure head's importance"
   ]
  },
  {
   "cell_type": "code",
   "execution_count": null,
   "metadata": {},
   "outputs": [],
   "source": [
    "mean_activations = get_mean_activations(\n",
    "    tokenized_prompts=tok_ret,\n",
    "    important_ids=ids_ret,\n",
    "    tokenizer=tokenizer,\n",
    "    model=model,\n",
    "    config=config,\n",
    "    correct_labels=correct_labels,\n",
    "    device='cuda'\n",
    ")\n",
    "torch.save(mean_activations, f'{RELATIVE_PATH}output/{dataset_name}_mean_activations_{MODEL_NAME.replace(\"/\", \"-\")}.pt')\n",
    "mean_activations.shape"
   ]
  },
  {
   "cell_type": "code",
   "execution_count": null,
   "metadata": {},
   "outputs": [],
   "source": [
    "cie, probs_original, probs_edited  = compute_indirect_effect(\n",
    "    model=model,\n",
    "    tokenizer=tokenizer,\n",
    "    config=config,\n",
    "    dataset=dataset, \n",
    "    mean_activations=mean_activations,\n",
    "    ICL_examples = ICL_examples,\n",
    "    batch_size=15,\n",
    ")\n",
    "torch.save(cie, f'{RELATIVE_PATH}output/{dataset_name}_cie_{MODEL_NAME.replace(\"/\", \"-\")}.pt')"
   ]
  },
  {
   "cell_type": "code",
   "execution_count": null,
   "metadata": {},
   "outputs": [],
   "source": [
    "cie = torch.load(f'{RELATIVE_PATH}output/sentiment_cie_gpt2.pt')\n",
    "\n",
    "import plotly.express as px\n",
    "\n",
    "fig = px.imshow(cie.mean(dim=0))\n",
    "fig.show()"
   ]
  }
 ],
 "metadata": {
  "kernelspec": {
   "display_name": ".venv",
   "language": "python",
   "name": "python3"
  },
  "language_info": {
   "codemirror_mode": {
    "name": "ipython",
    "version": 3
   },
   "file_extension": ".py",
   "mimetype": "text/x-python",
   "name": "python",
   "nbconvert_exporter": "python",
   "pygments_lexer": "ipython3",
   "version": "3.10.12"
  }
 },
 "nbformat": 4,
 "nbformat_minor": 2
}
