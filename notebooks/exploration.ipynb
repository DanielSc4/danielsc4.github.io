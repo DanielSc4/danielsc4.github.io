{
 "cells": [
  {
   "cell_type": "code",
   "execution_count": 91,
   "metadata": {},
   "outputs": [
    {
     "name": "stdout",
     "output_type": "stream",
     "text": [
      "The autoreload extension is already loaded. To reload it, use:\n",
      "  %reload_ext autoreload\n"
     ]
    }
   ],
   "source": [
    "%load_ext autoreload\n",
    "%autoreload 2\n",
    "\n",
    "import torch\n",
    "import transformers\n",
    "from transformers import AutoModelForCausalLM, AutoTokenizer"
   ]
  },
  {
   "cell_type": "code",
   "execution_count": 92,
   "metadata": {},
   "outputs": [],
   "source": [
    "model_name = 'gpt2'"
   ]
  },
  {
   "cell_type": "markdown",
   "metadata": {},
   "source": [
    "# prompt management"
   ]
  },
  {
   "cell_type": "code",
   "execution_count": 93,
   "metadata": {},
   "outputs": [],
   "source": [
    "dataset = (\n",
    "    ('Rome', 'Italy'),\n",
    "    ('Madrid', 'Spain'),\n",
    "    ('Amsterdam', 'Netherlands'),\n",
    "    ('Moscow', 'Russia'),\n",
    "    ('Nairobi', 'Kenya'),\n",
    "    ('Paris', 'France'),\n",
    "    ('Tehran', 'Iran'),\n",
    "    ('Tokyo', 'Japan'),\n",
    "    ('Warsaw', 'Poland'),\n",
    "    ('Ottawa', 'Canada'),\n",
    "    ('Oslo', 'Norway'),\n",
    "    ('Lisbon', 'Portugal'),\n",
    "    ('Helsinki', 'Finland'),\n",
    "    ('Havana', 'Cuba'),\n",
    "    ('Doha', 'Qatar'),\n",
    "    ('Damascus', 'Syria'),\n",
    "    ('Canberra', 'Australia'),\n",
    "    ('Cairo', 'Egypt'),\n",
    "    ('Bern', 'Switzerland'),\n",
    "    ('Berlin', 'Germany'),\n",
    "    ('Beijing', 'China'),\n",
    "    ('Athens', 'Greece'),\n",
    "    ('Ankara', 'Turkey'),\n",
    ")"
   ]
  },
  {
   "cell_type": "markdown",
   "metadata": {},
   "source": [
    "# models"
   ]
  },
  {
   "cell_type": "code",
   "execution_count": 147,
   "metadata": {},
   "outputs": [],
   "source": [
    "import sys\n",
    "sys.path.append('..')\n",
    "torch.set_grad_enabled(False)\n",
    "\n",
    "from src.utils.model_utils import load_gpt_model_and_tokenizer, set_seed, get_submodule\n",
    "from src.extraction import split_activation, extract_activations, get_mean_activations\n",
    "from src.utils.prompt_helper import build_prompt_txt, tokenize_from_template, tokenize_ICL\n",
    "set_seed(32)"
   ]
  },
  {
   "cell_type": "code",
   "execution_count": 95,
   "metadata": {},
   "outputs": [
    {
     "name": "stdout",
     "output_type": "stream",
     "text": [
      "GPT2LMHeadModel(\n",
      "  (transformer): GPT2Model(\n",
      "    (wte): Embedding(50257, 768)\n",
      "    (wpe): Embedding(1024, 768)\n",
      "    (drop): Dropout(p=0.1, inplace=False)\n",
      "    (h): ModuleList(\n",
      "      (0-11): 12 x GPT2Block(\n",
      "        (ln_1): LayerNorm((768,), eps=1e-05, elementwise_affine=True)\n",
      "        (attn): GPT2AttentionAltered(\n",
      "          (c_attn): Conv1D()\n",
      "          (c_proj): Conv1D()\n",
      "          (attn_dropout): Dropout(p=0.1, inplace=False)\n",
      "          (resid_dropout): Dropout(p=0.1, inplace=False)\n",
      "          (query): WrapperModule()\n",
      "          (key): WrapperModule()\n",
      "          (value): WrapperModule()\n",
      "        )\n",
      "        (ln_2): LayerNorm((768,), eps=1e-05, elementwise_affine=True)\n",
      "        (mlp): GPT2MLP(\n",
      "          (c_fc): Conv1D()\n",
      "          (c_proj): Conv1D()\n",
      "          (act): NewGELUActivation()\n",
      "          (dropout): Dropout(p=0.1, inplace=False)\n",
      "        )\n",
      "      )\n",
      "    )\n",
      "    (ln_f): LayerNorm((768,), eps=1e-05, elementwise_affine=True)\n",
      "  )\n",
      "  (lm_head): Linear(in_features=768, out_features=50257, bias=False)\n",
      ")\n",
      "{'n_heads': 12, 'n_layer': 12, 'd_model': 768, 'name': 'gpt2', 'layer_name': 'transformer.h', 'layer_hook_names': ['transformer.h.0', 'transformer.h.1', 'transformer.h.2', 'transformer.h.3', 'transformer.h.4', 'transformer.h.5', 'transformer.h.6', 'transformer.h.7', 'transformer.h.8', 'transformer.h.9', 'transformer.h.10', 'transformer.h.11'], 'attn_name': 'attn.c_proj', 'attn_hook_names': ['transformer.h.0.attn.c_proj', 'transformer.h.1.attn.c_proj', 'transformer.h.2.attn.c_proj', 'transformer.h.3.attn.c_proj', 'transformer.h.4.attn.c_proj', 'transformer.h.5.attn.c_proj', 'transformer.h.6.attn.c_proj', 'transformer.h.7.attn.c_proj', 'transformer.h.8.attn.c_proj', 'transformer.h.9.attn.c_proj', 'transformer.h.10.attn.c_proj', 'transformer.h.11.attn.c_proj']}\n"
     ]
    }
   ],
   "source": [
    "tokenizer = AutoTokenizer.from_pretrained(model_name)\n",
    "model, config = load_gpt_model_and_tokenizer(model_name)\n",
    "print(model)\n",
    "print(config)"
   ]
  },
  {
   "cell_type": "markdown",
   "metadata": {},
   "source": [
    "Calculate the average of the activation on the dataset to grasp any pattern that is task-dependant and not token-dependant \n",
    "\n",
    "Activations have the following shape (num_layers, num_heads, seq_len, d_head), being each OV circuit output.\n",
    "\n",
    "Still to answer:\n",
    "- How this is connected to the residual stream?"
   ]
  },
  {
   "cell_type": "markdown",
   "metadata": {},
   "source": [
    "Trying to use [nnsight](https://github.com/JadenFiotto-Kaufman/nnsight) and explore to know how it works"
   ]
  },
  {
   "cell_type": "code",
   "execution_count": 90,
   "metadata": {},
   "outputs": [
    {
     "name": "stdout",
     "output_type": "stream",
     "text": [
      "tensor([50256,    48,    25,    49,   462,   198,    32,    25, 45001,   628,\n",
      "           48,    25, 18454,  6058,   198,    32,    25, 45355,   628,    48,\n",
      "           25,  5840, 22506,   198,    32,    25])\n",
      "[0, 1, 2, 4, 5, 6, 7, 8, 9, 10, 11, 13, 14, 15, 16, 17, 18, 19, 20, 22, 23, 24, 25]\n"
     ]
    }
   ],
   "source": [
    "# select number of ICL examples\n",
    "ICL_examples = 2\n",
    "\n",
    "tok_ret, ids_ret = tokenize_ICL(tokenizer, ICL_examples = ICL_examples, dataset = dataset)\n",
    "print(tok_ret[0])\n",
    "print(ids_ret[0])"
   ]
  },
  {
   "cell_type": "markdown",
   "metadata": {},
   "source": [
    "___\n"
   ]
  },
  {
   "cell_type": "code",
   "execution_count": 152,
   "metadata": {},
   "outputs": [
    {
     "name": "stderr",
     "output_type": "stream",
     "text": [
      "Setting `pad_token_id` to `eos_token_id`:50256 for open-end generation.\n",
      "Setting `pad_token_id` to `eos_token_id`:50256 for open-end generation.\n",
      "Setting `pad_token_id` to `eos_token_id`:50256 for open-end generation.\n",
      "Setting `pad_token_id` to `eos_token_id`:50256 for open-end generation.\n",
      "Setting `pad_token_id` to `eos_token_id`:50256 for open-end generation.\n",
      "Setting `pad_token_id` to `eos_token_id`:50256 for open-end generation.\n",
      "Setting `pad_token_id` to `eos_token_id`:50256 for open-end generation.\n"
     ]
    }
   ],
   "source": [
    "mean_activation, outputs = get_mean_activations(\n",
    "    tokenized_prompts=tok_ret,\n",
    "    important_ids=ids_ret,\n",
    "    model=model,\n",
    "    config=config,\n",
    ")"
   ]
  }
 ],
 "metadata": {
  "kernelspec": {
   "display_name": ".venv",
   "language": "python",
   "name": "python3"
  },
  "language_info": {
   "codemirror_mode": {
    "name": "ipython",
    "version": 3
   },
   "file_extension": ".py",
   "mimetype": "text/x-python",
   "name": "python",
   "nbconvert_exporter": "python",
   "pygments_lexer": "ipython3",
   "version": "3.9.15"
  }
 },
 "nbformat": 4,
 "nbformat_minor": 2
}
