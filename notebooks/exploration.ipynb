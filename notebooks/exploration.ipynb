{
 "cells": [
  {
   "cell_type": "code",
   "execution_count": 1,
   "metadata": {},
   "outputs": [
    {
     "name": "stderr",
     "output_type": "stream",
     "text": [
      "/Users/daniel/Documents/Work/research/general-task-vectors/.venv/lib/python3.9/site-packages/tqdm/auto.py:21: TqdmWarning: IProgress not found. Please update jupyter and ipywidgets. See https://ipywidgets.readthedocs.io/en/stable/user_install.html\n",
      "  from .autonotebook import tqdm as notebook_tqdm\n"
     ]
    }
   ],
   "source": [
    "%load_ext autoreload\n",
    "%autoreload 2\n",
    "\n",
    "import torch\n",
    "import transformers\n",
    "from transformers import AutoModelForCausalLM, AutoTokenizer"
   ]
  },
  {
   "cell_type": "code",
   "execution_count": 85,
   "metadata": {},
   "outputs": [],
   "source": [
    "import sys\n",
    "sys.path.append('..')\n",
    "torch.set_grad_enabled(False)\n",
    "\n",
    "from src.utils.model_utils import load_gpt_model_and_tokenizer, set_seed, get_submodule\n",
    "set_seed(32)"
   ]
  },
  {
   "cell_type": "code",
   "execution_count": 42,
   "metadata": {},
   "outputs": [
    {
     "name": "stdout",
     "output_type": "stream",
     "text": [
      "GPT2LMHeadModel(\n",
      "  (transformer): GPT2Model(\n",
      "    (wte): Embedding(50257, 768)\n",
      "    (wpe): Embedding(1024, 768)\n",
      "    (drop): Dropout(p=0.1, inplace=False)\n",
      "    (h): ModuleList(\n",
      "      (0-11): 12 x GPT2Block(\n",
      "        (ln_1): LayerNorm((768,), eps=1e-05, elementwise_affine=True)\n",
      "        (attn): GPT2AttentionAltered(\n",
      "          (c_attn): Conv1D()\n",
      "          (c_proj): Conv1D()\n",
      "          (attn_dropout): Dropout(p=0.1, inplace=False)\n",
      "          (resid_dropout): Dropout(p=0.1, inplace=False)\n",
      "          (query): WrapperModule()\n",
      "          (key): WrapperModule()\n",
      "          (value): WrapperModule()\n",
      "        )\n",
      "        (ln_2): LayerNorm((768,), eps=1e-05, elementwise_affine=True)\n",
      "        (mlp): GPT2MLP(\n",
      "          (c_fc): Conv1D()\n",
      "          (c_proj): Conv1D()\n",
      "          (act): NewGELUActivation()\n",
      "          (dropout): Dropout(p=0.1, inplace=False)\n",
      "        )\n",
      "      )\n",
      "    )\n",
      "    (ln_f): LayerNorm((768,), eps=1e-05, elementwise_affine=True)\n",
      "  )\n",
      "  (lm_head): Linear(in_features=768, out_features=50257, bias=False)\n",
      ")\n",
      "{'n_heads': 12, 'n_layer': 12, 'd_model': 768, 'name': 'gpt2', 'layer_name': 'transformer.h', 'layer_hook_names': ['transformer.h.0', 'transformer.h.1', 'transformer.h.2', 'transformer.h.3', 'transformer.h.4', 'transformer.h.5', 'transformer.h.6', 'transformer.h.7', 'transformer.h.8', 'transformer.h.9', 'transformer.h.10', 'transformer.h.11'], 'attn_name': 'attn.c_proj', 'attn_hook_names': ['transformer.h.0.attn.c_proj', 'transformer.h.1.attn.c_proj', 'transformer.h.2.attn.c_proj', 'transformer.h.3.attn.c_proj', 'transformer.h.4.attn.c_proj', 'transformer.h.5.attn.c_proj', 'transformer.h.6.attn.c_proj', 'transformer.h.7.attn.c_proj', 'transformer.h.8.attn.c_proj', 'transformer.h.9.attn.c_proj', 'transformer.h.10.attn.c_proj', 'transformer.h.11.attn.c_proj']}\n"
     ]
    }
   ],
   "source": [
    "model, config = load_gpt_model_and_tokenizer('gpt2')\n",
    "print(model)\n",
    "print(config)"
   ]
  },
  {
   "cell_type": "markdown",
   "metadata": {},
   "source": [
    "Calculate the average of the activation on the dataset to grasp any pattern that is task-dependant and not token-dependant \n",
    "\n",
    "Activations have the following shape (num_layers, num_heads, seq_len, d_head), being each OV circuit output.\n",
    "\n",
    "Still to answer:\n",
    "- How this is connected to the residual stream?"
   ]
  },
  {
   "cell_type": "markdown",
   "metadata": {},
   "source": [
    "Trying to use [nnsight](https://github.com/JadenFiotto-Kaufman/nnsight) and explore to know how it works"
   ]
  },
  {
   "cell_type": "code",
   "execution_count": 184,
   "metadata": {},
   "outputs": [
    {
     "name": "stderr",
     "output_type": "stream",
     "text": [
      "Setting `pad_token_id` to `eos_token_id`:50256 for open-end generation.\n"
     ]
    },
    {
     "name": "stdout",
     "output_type": "stream",
     "text": [
      "type:\t <nnsight.intervention.InterventionProxy object at 0x17dfe9cd0>\n",
      "shape:\t (torch.Size([1, 7, 768]), (torch.Size([1, 12, 7, 64]), torch.Size([1, 12, 7, 64])))\n"
     ]
    }
   ],
   "source": [
    "# some queries k=1 ICL\n",
    "queries = [\n",
    "    'Rome: Italy, Amsterdam:',\n",
    "    'Paris: France, Berlin:',\n",
    "    'Madrid: Spain, Lisbon:',\n",
    "    'Tokyo: Japan, Madrid:',\n",
    "]\n",
    "\n",
    "# generate is meant for multi-iteration runs\n",
    "with model.generate(max_new_tokens=3) as generator:\n",
    "    # invoke works in a generation context, where operations on inputs and outputs are tracked\n",
    "    with generator.invoke(queries[2]) as invoker:\n",
    "        \n",
    "        for num_layer in range(config['n_layer']):\n",
    "            activations = get_submodule(\n",
    "                model, \n",
    "                config['layer_name'].split('.')\n",
    "            )[num_layer]\n",
    "\n",
    "            # taking the attention 'output'\n",
    "            print(f'type:\\t {activations.attn.output}')\n",
    "            print(f'shape:\\t {activations.attn.output.shape}')\n",
    "            # output shape: \n",
    "            #   (\n",
    "            #       hidden_state: [b, seq, d_model], \n",
    "            #       (\n",
    "            #           QK?: [b, n_heads, seq, d_head], \n",
    "            #           OV?: [b, n_heads, seq, d_head],\n",
    "            #       )\n",
    "            #   )\n",
    "            break"
   ]
  },
  {
   "cell_type": "markdown",
   "metadata": {},
   "source": [
    "calculate mean activations"
   ]
  },
  {
   "cell_type": "code",
   "execution_count": 188,
   "metadata": {},
   "outputs": [
    {
     "name": "stdout",
     "output_type": "stream",
     "text": [
      "p( Spain) = 0.900\n",
      "p( Portugal) = 0.028\n",
      "p( Madrid) = 0.024\n",
      "p( Italy) = 0.014\n",
      "p( Argentina) = 0.005\n",
      "p( Mexico) = 0.003\n",
      "p( France) = 0.002\n",
      "p( Uruguay) = 0.002\n",
      "p( Brazil) = 0.002\n",
      "p( Real) = 0.001\n"
     ]
    }
   ],
   "source": [
    "prompt = \"Rome: Italy, Amsterdam: Netherlands, Lisbon: Portugal, Madrid:\"\n",
    "\n",
    "with model.invoke(prompt) as invoker:\n",
    "    pass # no changes to make in the forward pass\n",
    "logits = invoker.output.logits\n",
    "logits = logits[0,-1,:] # only over the final token\n",
    "probs = logits.softmax(dim=-1)\n",
    "\n",
    "\n",
    "for tok, prob in zip(probs.topk(10).indices, probs.topk(10).values):\n",
    "    print(f\"p({model.tokenizer.decode(tok)}) = {prob:.3f}\")"
   ]
  }
 ],
 "metadata": {
  "kernelspec": {
   "display_name": ".venv",
   "language": "python",
   "name": "python3"
  },
  "language_info": {
   "codemirror_mode": {
    "name": "ipython",
    "version": 3
   },
   "file_extension": ".py",
   "mimetype": "text/x-python",
   "name": "python",
   "nbconvert_exporter": "python",
   "pygments_lexer": "ipython3",
   "version": "3.9.15"
  }
 },
 "nbformat": 4,
 "nbformat_minor": 2
}
