{
 "cells": [
  {
   "cell_type": "code",
   "execution_count": 1,
   "metadata": {},
   "outputs": [],
   "source": [
    "%load_ext autoreload\n",
    "%autoreload 2\n",
    "\n",
    "import torch\n",
    "import numpy as np\n",
    "from transformers import AutoModelForCausalLM, AutoTokenizer"
   ]
  },
  {
   "cell_type": "markdown",
   "metadata": {},
   "source": [
    "### Some configs"
   ]
  },
  {
   "cell_type": "code",
   "execution_count": 2,
   "metadata": {},
   "outputs": [],
   "source": [
    "MODEL_NAME = 'gpt2'\n",
    "MODEL_NAME = 'microsoft/phi-2'\n",
    "# MODEL_NAME = 'EleutherAI/pythia-1B'\n",
    "# MODEL_NAME = 'TinyLlama/TinyLlama-1.1B-Chat-v1.0'\n",
    "\n",
    "LOAD_IN_8BIT = True\n",
    "RELATIVE_PATH = '../'\n",
    "dataset_name = 'following'"
   ]
  },
  {
   "cell_type": "markdown",
   "metadata": {},
   "source": [
    "### dataset"
   ]
  },
  {
   "cell_type": "code",
   "execution_count": 3,
   "metadata": {},
   "outputs": [
    {
     "name": "stdout",
     "output_type": "stream",
     "text": [
      "dataset len: 25\n"
     ]
    }
   ],
   "source": [
    "import json\n",
    "\n",
    "def load_json_dataset(json_path):\n",
    "    with open(json_path) as file:\n",
    "        dataset = json.load(file)\n",
    "    return dataset\n",
    "\n",
    "dataset = load_json_dataset(f'{RELATIVE_PATH}data/{dataset_name}.json')\n",
    "dataset = list(map(lambda x: tuple(x.values()), dataset))\n",
    "print(f'dataset len: {len(dataset)}')"
   ]
  },
  {
   "cell_type": "code",
   "execution_count": 4,
   "metadata": {},
   "outputs": [],
   "source": [
    "import sys\n",
    "sys.path.append('..')\n",
    "torch.set_grad_enabled(False)\n",
    "\n",
    "from src.utils.model_utils import load_gpt_model_and_tokenizer, set_seed\n",
    "from src.extraction import get_mean_activations\n",
    "from src.utils.prompt_helper import tokenize_ICL\n",
    "from src.intervention import compute_indirect_effect\n",
    "set_seed(32)"
   ]
  },
  {
   "cell_type": "code",
   "execution_count": 5,
   "metadata": {},
   "outputs": [
    {
     "name": "stderr",
     "output_type": "stream",
     "text": [
      "Special tokens have been added in the vocabulary, make sure the associated word embeddings are fine-tuned or trained.\n",
      "Special tokens have been added in the vocabulary, make sure the associated word embeddings are fine-tuned or trained.\n"
     ]
    }
   ],
   "source": [
    "model, tokenizer, config, device = load_gpt_model_and_tokenizer(MODEL_NAME, LOAD_IN_8BIT)\n",
    "# select number of ICL examples (query excluded)\n",
    "ICL_examples = 4\n",
    "tok_ret, ids_ret, correct_labels = tokenize_ICL(tokenizer, ICL_examples = ICL_examples, dataset = dataset)"
   ]
  },
  {
   "cell_type": "markdown",
   "metadata": {},
   "source": [
    "## Get activations and measure head's importance"
   ]
  },
  {
   "cell_type": "code",
   "execution_count": 68,
   "metadata": {},
   "outputs": [
    {
     "name": "stderr",
     "output_type": "stream",
     "text": [
      "[x] Extracting activations (layer: 31/32): 100%|██████████| 5/5 [00:05<00:00,  1.11s/it]\n"
     ]
    },
    {
     "ename": "ValueError",
     "evalue": "Accessing Proxy value before it's been set.",
     "output_type": "error",
     "traceback": [
      "\u001b[0;31m---------------------------------------------------------------------------\u001b[0m",
      "\u001b[0;31mValueError\u001b[0m                                Traceback (most recent call last)",
      "Cell \u001b[0;32mIn[68], line 1\u001b[0m\n\u001b[0;32m----> 1\u001b[0m mean_activations \u001b[38;5;241m=\u001b[39m \u001b[43mget_mean_activations\u001b[49m\u001b[43m(\u001b[49m\n\u001b[1;32m      2\u001b[0m \u001b[43m    \u001b[49m\u001b[43mtokenized_prompts\u001b[49m\u001b[38;5;241;43m=\u001b[39;49m\u001b[43mtok_ret\u001b[49m\u001b[43m,\u001b[49m\n\u001b[1;32m      3\u001b[0m \u001b[43m    \u001b[49m\u001b[43mimportant_ids\u001b[49m\u001b[38;5;241;43m=\u001b[39;49m\u001b[43mids_ret\u001b[49m\u001b[43m,\u001b[49m\n\u001b[1;32m      4\u001b[0m \u001b[43m    \u001b[49m\u001b[43mtokenizer\u001b[49m\u001b[38;5;241;43m=\u001b[39;49m\u001b[43mtokenizer\u001b[49m\u001b[43m,\u001b[49m\n\u001b[1;32m      5\u001b[0m \u001b[43m    \u001b[49m\u001b[43mmodel\u001b[49m\u001b[38;5;241;43m=\u001b[39;49m\u001b[43mmodel\u001b[49m\u001b[43m,\u001b[49m\n\u001b[1;32m      6\u001b[0m \u001b[43m    \u001b[49m\u001b[43mconfig\u001b[49m\u001b[38;5;241;43m=\u001b[39;49m\u001b[43mconfig\u001b[49m\u001b[43m,\u001b[49m\n\u001b[1;32m      7\u001b[0m \u001b[43m    \u001b[49m\u001b[43mcorrect_labels\u001b[49m\u001b[38;5;241;43m=\u001b[39;49m\u001b[43mcorrect_labels\u001b[49m\u001b[43m,\u001b[49m\n\u001b[1;32m      8\u001b[0m \u001b[43m    \u001b[49m\u001b[43mdevice\u001b[49m\u001b[38;5;241;43m=\u001b[39;49m\u001b[38;5;124;43m'\u001b[39;49m\u001b[38;5;124;43mcuda\u001b[39;49m\u001b[38;5;124;43m'\u001b[39;49m\n\u001b[1;32m      9\u001b[0m \u001b[43m)\u001b[49m\n\u001b[1;32m     10\u001b[0m torch\u001b[38;5;241m.\u001b[39msave(mean_activations, \u001b[38;5;124mf\u001b[39m\u001b[38;5;124m'\u001b[39m\u001b[38;5;132;01m{\u001b[39;00mRELATIVE_PATH\u001b[38;5;132;01m}\u001b[39;00m\u001b[38;5;124moutput/\u001b[39m\u001b[38;5;132;01m{\u001b[39;00mdataset_name\u001b[38;5;132;01m}\u001b[39;00m\u001b[38;5;124m_mean_activations_\u001b[39m\u001b[38;5;132;01m{\u001b[39;00mMODEL_NAME\u001b[38;5;241m.\u001b[39mreplace(\u001b[38;5;124m\"\u001b[39m\u001b[38;5;124m/\u001b[39m\u001b[38;5;124m\"\u001b[39m,\u001b[38;5;250m \u001b[39m\u001b[38;5;124m\"\u001b[39m\u001b[38;5;124m-\u001b[39m\u001b[38;5;124m\"\u001b[39m)\u001b[38;5;132;01m}\u001b[39;00m\u001b[38;5;124m.pt\u001b[39m\u001b[38;5;124m'\u001b[39m)\n\u001b[1;32m     11\u001b[0m mean_activations\u001b[38;5;241m.\u001b[39mshape\n",
      "File \u001b[0;32m~/document/general-task-vectors/notebooks/../src/extraction.py:96\u001b[0m, in \u001b[0;36mget_mean_activations\u001b[0;34m(tokenized_prompts, important_ids, tokenizer, model, config, correct_labels, device)\u001b[0m\n\u001b[1;32m     72\u001b[0m \u001b[38;5;28;01mdef\u001b[39;00m \u001b[38;5;21mget_mean_activations\u001b[39m(\n\u001b[1;32m     73\u001b[0m         tokenized_prompts: \u001b[38;5;28mlist\u001b[39m[torch\u001b[38;5;241m.\u001b[39mTensor], \n\u001b[1;32m     74\u001b[0m         important_ids: \u001b[38;5;28mlist\u001b[39m[\u001b[38;5;28mint\u001b[39m], \n\u001b[0;32m   (...)\u001b[0m\n\u001b[1;32m     79\u001b[0m         device: \u001b[38;5;28mstr\u001b[39m,\n\u001b[1;32m     80\u001b[0m     ):\n\u001b[1;32m     81\u001b[0m \u001b[38;5;250m    \u001b[39m\u001b[38;5;124;03m\"\"\"Compute the average of all the model's activation on the provided prompts\u001b[39;00m\n\u001b[1;32m     82\u001b[0m \n\u001b[1;32m     83\u001b[0m \u001b[38;5;124;03m    Args:\u001b[39;00m\n\u001b[0;32m   (...)\u001b[0m\n\u001b[1;32m     93\u001b[0m \u001b[38;5;124;03m        torch.Tensor: mean of activations (`n_layers, n_heads, seq_len, d_head`)\u001b[39;00m\n\u001b[1;32m     94\u001b[0m \u001b[38;5;124;03m    \"\"\"\u001b[39;00m\n\u001b[0;32m---> 96\u001b[0m     activations, outputs \u001b[38;5;241m=\u001b[39m \u001b[43mextract_activations\u001b[49m\u001b[43m(\u001b[49m\n\u001b[1;32m     97\u001b[0m \u001b[43m        \u001b[49m\u001b[43mtokenized_prompts\u001b[49m\u001b[38;5;241;43m=\u001b[39;49m\u001b[43mtokenized_prompts\u001b[49m\u001b[43m,\u001b[49m\u001b[43m \u001b[49m\n\u001b[1;32m     98\u001b[0m \u001b[43m        \u001b[49m\u001b[43mmodel\u001b[49m\u001b[38;5;241;43m=\u001b[39;49m\u001b[43mmodel\u001b[49m\u001b[43m,\u001b[49m\u001b[43m \u001b[49m\n\u001b[1;32m     99\u001b[0m \u001b[43m        \u001b[49m\u001b[43mconfig\u001b[49m\u001b[38;5;241;43m=\u001b[39;49m\u001b[43mconfig\u001b[49m\u001b[43m,\u001b[49m\n\u001b[1;32m    100\u001b[0m \u001b[43m        \u001b[49m\u001b[43mtokenizer\u001b[49m\u001b[38;5;241;43m=\u001b[39;49m\u001b[43mtokenizer\u001b[49m\u001b[43m,\u001b[49m\n\u001b[1;32m    101\u001b[0m \u001b[43m        \u001b[49m\u001b[43mdevice\u001b[49m\u001b[38;5;241;43m=\u001b[39;49m\u001b[43mdevice\u001b[49m\u001b[43m,\u001b[49m\n\u001b[1;32m    102\u001b[0m \u001b[43m    \u001b[49m\u001b[43m)\u001b[49m\n\u001b[1;32m    104\u001b[0m     \u001b[38;5;66;03m# keep only important tokens\u001b[39;00m\n\u001b[1;32m    105\u001b[0m     activations_clean \u001b[38;5;241m=\u001b[39m torch\u001b[38;5;241m.\u001b[39mstack(\n\u001b[1;32m    106\u001b[0m         [activations[i][:, :, important_ids[i], :] \u001b[38;5;28;01mfor\u001b[39;00m i \u001b[38;5;129;01min\u001b[39;00m \u001b[38;5;28mrange\u001b[39m(\u001b[38;5;28mlen\u001b[39m(activations))]\n\u001b[1;32m    107\u001b[0m     )\n",
      "File \u001b[0;32m~/document/general-task-vectors/notebooks/../src/extraction.py:49\u001b[0m, in \u001b[0;36mextract_activations\u001b[0;34m(tokenized_prompts, model, config, tokenizer, device)\u001b[0m\n\u001b[1;32m     36\u001b[0m \u001b[38;5;250m\u001b[39m\u001b[38;5;124;03m\"\"\"Extract the activation and the output produced from the model using the tokenized prompts provided\u001b[39;00m\n\u001b[1;32m     37\u001b[0m \n\u001b[1;32m     38\u001b[0m \u001b[38;5;124;03mArgs:\u001b[39;00m\n\u001b[0;32m   (...)\u001b[0m\n\u001b[1;32m     46\u001b[0m \u001b[38;5;124;03m    tuple[list[torch.Tensor], list[torch.Tensor]]: tuple corresponding to the activations and the model output\u001b[39;00m\n\u001b[1;32m     47\u001b[0m \u001b[38;5;124;03m\"\"\"\u001b[39;00m\n\u001b[1;32m     48\u001b[0m dataset_activations, outputs \u001b[38;5;241m=\u001b[39m [], []\n\u001b[0;32m---> 49\u001b[0m \u001b[38;5;28;01mwith\u001b[39;00m model\u001b[38;5;241m.\u001b[39mgenerate(max_new_tokens\u001b[38;5;241m=\u001b[39m\u001b[38;5;241m1\u001b[39m, pad_token_id\u001b[38;5;241m=\u001b[39mtokenizer\u001b[38;5;241m.\u001b[39mpad_token_id) \u001b[38;5;28;01mas\u001b[39;00m generator:\n\u001b[1;32m     50\u001b[0m     pbar \u001b[38;5;241m=\u001b[39m tqdm(tokenized_prompts, total \u001b[38;5;241m=\u001b[39m \u001b[38;5;28mlen\u001b[39m(tokenized_prompts), desc \u001b[38;5;241m=\u001b[39m \u001b[38;5;124m'\u001b[39m\u001b[38;5;124m[x] Extracting activations\u001b[39m\u001b[38;5;124m'\u001b[39m)\n\u001b[1;32m     51\u001b[0m     \u001b[38;5;28;01mfor\u001b[39;00m prompt \u001b[38;5;129;01min\u001b[39;00m pbar:\n",
      "File \u001b[0;32m~/document/general-task-vectors/.venv/lib/python3.10/site-packages/nnsight/contexts/Runner.py:62\u001b[0m, in \u001b[0;36mRunner.__exit__\u001b[0;34m(self, exc_type, exc_val, exc_tb)\u001b[0m\n\u001b[1;32m     60\u001b[0m \u001b[38;5;250m\u001b[39m\u001b[38;5;124;03m\"\"\"On exit, run and generate using the model whether locally or on the server.\"\"\"\u001b[39;00m\n\u001b[1;32m     61\u001b[0m \u001b[38;5;28;01mif\u001b[39;00m \u001b[38;5;28misinstance\u001b[39m(exc_val, \u001b[38;5;167;01mBaseException\u001b[39;00m):\n\u001b[0;32m---> 62\u001b[0m     \u001b[38;5;28;01mraise\u001b[39;00m exc_val\n\u001b[1;32m     63\u001b[0m \u001b[38;5;28;01mif\u001b[39;00m \u001b[38;5;28mself\u001b[39m\u001b[38;5;241m.\u001b[39mremote:\n\u001b[1;32m     64\u001b[0m     \u001b[38;5;28mself\u001b[39m\u001b[38;5;241m.\u001b[39mrun_server()\n",
      "File \u001b[0;32m~/document/general-task-vectors/notebooks/../src/extraction.py:64\u001b[0m, in \u001b[0;36mextract_activations\u001b[0;34m(tokenized_prompts, model, config, tokenizer, device)\u001b[0m\n\u001b[1;32m     61\u001b[0m outputs\u001b[38;5;241m.\u001b[39mappend(generator\u001b[38;5;241m.\u001b[39moutput)\n\u001b[1;32m     63\u001b[0m \u001b[38;5;66;03m# get the values from the activations\u001b[39;00m\n\u001b[0;32m---> 64\u001b[0m layer_attn_activations \u001b[38;5;241m=\u001b[39m [att\u001b[38;5;241m.\u001b[39mvalue \u001b[38;5;28;01mfor\u001b[39;00m att \u001b[38;5;129;01min\u001b[39;00m layer_attn_activations]\n\u001b[1;32m     66\u001b[0m \u001b[38;5;66;03m# from hidden state split heads and permute: n_layers, tokens, n_heads, d_head -> n_layers, n_heads, tokens, d_head\u001b[39;00m\n\u001b[1;32m     67\u001b[0m attn_activations \u001b[38;5;241m=\u001b[39m split_activation(layer_attn_activations, config)\u001b[38;5;241m.\u001b[39mpermute(\u001b[38;5;241m0\u001b[39m, \u001b[38;5;241m2\u001b[39m, \u001b[38;5;241m1\u001b[39m, \u001b[38;5;241m3\u001b[39m)\n",
      "File \u001b[0;32m~/document/general-task-vectors/notebooks/../src/extraction.py:64\u001b[0m, in \u001b[0;36m<listcomp>\u001b[0;34m(.0)\u001b[0m\n\u001b[1;32m     61\u001b[0m outputs\u001b[38;5;241m.\u001b[39mappend(generator\u001b[38;5;241m.\u001b[39moutput)\n\u001b[1;32m     63\u001b[0m \u001b[38;5;66;03m# get the values from the activations\u001b[39;00m\n\u001b[0;32m---> 64\u001b[0m layer_attn_activations \u001b[38;5;241m=\u001b[39m [\u001b[43matt\u001b[49m\u001b[38;5;241;43m.\u001b[39;49m\u001b[43mvalue\u001b[49m \u001b[38;5;28;01mfor\u001b[39;00m att \u001b[38;5;129;01min\u001b[39;00m layer_attn_activations]\n\u001b[1;32m     66\u001b[0m \u001b[38;5;66;03m# from hidden state split heads and permute: n_layers, tokens, n_heads, d_head -> n_layers, n_heads, tokens, d_head\u001b[39;00m\n\u001b[1;32m     67\u001b[0m attn_activations \u001b[38;5;241m=\u001b[39m split_activation(layer_attn_activations, config)\u001b[38;5;241m.\u001b[39mpermute(\u001b[38;5;241m0\u001b[39m, \u001b[38;5;241m2\u001b[39m, \u001b[38;5;241m1\u001b[39m, \u001b[38;5;241m3\u001b[39m)\n",
      "File \u001b[0;32m~/document/general-task-vectors/.venv/lib/python3.10/site-packages/nnsight/intervention.py:128\u001b[0m, in \u001b[0;36mInterventionProxy.value\u001b[0;34m(self)\u001b[0m\n\u001b[1;32m    121\u001b[0m \u001b[38;5;250m\u001b[39m\u001b[38;5;124;03m\"\"\"Property to return the value of this proxy's node.\u001b[39;00m\n\u001b[1;32m    122\u001b[0m \n\u001b[1;32m    123\u001b[0m \u001b[38;5;124;03mReturns:\u001b[39;00m\n\u001b[1;32m    124\u001b[0m \u001b[38;5;124;03m    Any: The stored value of the proxy, populated during execution of the model.\u001b[39;00m\n\u001b[1;32m    125\u001b[0m \u001b[38;5;124;03m\"\"\"\u001b[39;00m\n\u001b[1;32m    127\u001b[0m \u001b[38;5;28;01mif\u001b[39;00m \u001b[38;5;28mself\u001b[39m\u001b[38;5;241m.\u001b[39mnode\u001b[38;5;241m.\u001b[39mvalue \u001b[38;5;129;01mis\u001b[39;00m inspect\u001b[38;5;241m.\u001b[39m_empty:\n\u001b[0;32m--> 128\u001b[0m     \u001b[38;5;28;01mraise\u001b[39;00m \u001b[38;5;167;01mValueError\u001b[39;00m(\u001b[38;5;124m\"\u001b[39m\u001b[38;5;124mAccessing Proxy value before it\u001b[39m\u001b[38;5;124m'\u001b[39m\u001b[38;5;124ms been set.\u001b[39m\u001b[38;5;124m\"\u001b[39m)\n\u001b[1;32m    130\u001b[0m \u001b[38;5;28;01mreturn\u001b[39;00m \u001b[38;5;28mself\u001b[39m\u001b[38;5;241m.\u001b[39mnode\u001b[38;5;241m.\u001b[39mvalue\n",
      "\u001b[0;31mValueError\u001b[0m: Accessing Proxy value before it's been set."
     ]
    }
   ],
   "source": [
    "mean_activations = get_mean_activations(\n",
    "    tokenized_prompts=tok_ret,\n",
    "    important_ids=ids_ret,\n",
    "    tokenizer=tokenizer,\n",
    "    model=model,\n",
    "    config=config,\n",
    "    correct_labels=correct_labels,\n",
    "    device='cuda'\n",
    ")\n",
    "torch.save(mean_activations, f'{RELATIVE_PATH}output/{dataset_name}_mean_activations_{MODEL_NAME.replace(\"/\", \"-\")}.pt')\n",
    "mean_activations.shape"
   ]
  },
  {
   "cell_type": "code",
   "execution_count": null,
   "metadata": {},
   "outputs": [],
   "source": [
    "cie, probs_original, probs_edited  = compute_indirect_effect(\n",
    "    model=model,\n",
    "    tokenizer=tokenizer,\n",
    "    config=config,\n",
    "    dataset=dataset, \n",
    "    mean_activations=mean_activations,\n",
    "    ICL_examples = ICL_examples,\n",
    "    batch_size=15,\n",
    ")\n",
    "torch.save(cie, f'{RELATIVE_PATH}output/{dataset_name}_cie_{MODEL_NAME.replace(\"/\", \"-\")}.pt')"
   ]
  },
  {
   "cell_type": "code",
   "execution_count": null,
   "metadata": {},
   "outputs": [],
   "source": [
    "import plotly.express as px\n",
    "\n",
    "fig = px.imshow(cie.mean(dim=0))\n",
    "fig.show()"
   ]
  },
  {
   "cell_type": "code",
   "execution_count": null,
   "metadata": {},
   "outputs": [
    {
     "data": {
      "text/plain": [
       "PhiAttention(\n",
       "  (q_proj): Linear(in_features=2560, out_features=2560, bias=True)\n",
       "  (k_proj): Linear(in_features=2560, out_features=2560, bias=True)\n",
       "  (v_proj): Linear(in_features=2560, out_features=2560, bias=True)\n",
       "  (dense): Linear(in_features=2560, out_features=2560, bias=True)\n",
       "  (rotary_emb): PhiRotaryEmbedding()\n",
       ")"
      ]
     },
     "execution_count": 13,
     "metadata": {},
     "output_type": "execute_result"
    }
   ],
   "source": []
  },
  {
   "cell_type": "code",
   "execution_count": null,
   "metadata": {},
   "outputs": [
    {
     "data": {
      "text/plain": [
       "2560"
      ]
     },
     "execution_count": 16,
     "metadata": {},
     "output_type": "execute_result"
    }
   ],
   "source": [
    "config['d_model']"
   ]
  },
  {
   "cell_type": "code",
   "execution_count": null,
   "metadata": {},
   "outputs": [
    {
     "name": "stdout",
     "output_type": "stream",
     "text": [
      "(torch.Size([1, 3, 2560]), None, <transformers.cache_utils.DynamicCache object at 0x7f7ef02bdd80>)\n"
     ]
    }
   ],
   "source": [
    "with model.generate(max_new_tokens = 1) as generator:\n",
    "    with generator.invoke('My name is') as invoker:\n",
    "        a = model.model.layers[0].self_attn.output.save()\n",
    "\n",
    "print(a.shape)"
   ]
  }
 ],
 "metadata": {
  "kernelspec": {
   "display_name": ".venv",
   "language": "python",
   "name": "python3"
  },
  "language_info": {
   "codemirror_mode": {
    "name": "ipython",
    "version": 3
   },
   "file_extension": ".py",
   "mimetype": "text/x-python",
   "name": "python",
   "nbconvert_exporter": "python",
   "pygments_lexer": "ipython3",
   "version": "3.10.12"
  }
 },
 "nbformat": 4,
 "nbformat_minor": 2
}
