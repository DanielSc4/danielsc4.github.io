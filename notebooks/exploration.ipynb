{
 "cells": [
  {
   "cell_type": "code",
   "execution_count": 91,
   "metadata": {},
   "outputs": [
    {
     "name": "stdout",
     "output_type": "stream",
     "text": [
      "The autoreload extension is already loaded. To reload it, use:\n",
      "  %reload_ext autoreload\n"
     ]
    }
   ],
   "source": [
    "%load_ext autoreload\n",
    "%autoreload 2\n",
    "\n",
    "import torch\n",
    "import transformers\n",
    "from transformers import AutoModelForCausalLM, AutoTokenizer\n",
    "import matplotlib.pyplot as plt"
   ]
  },
  {
   "cell_type": "code",
   "execution_count": 324,
   "metadata": {},
   "outputs": [],
   "source": [
    "model_name = 'gpt2'"
   ]
  },
  {
   "cell_type": "markdown",
   "metadata": {},
   "source": [
    "# prompt management"
   ]
  },
  {
   "cell_type": "code",
   "execution_count": 402,
   "metadata": {},
   "outputs": [
    {
     "name": "stdout",
     "output_type": "stream",
     "text": [
      "dataset len: 2398\n"
     ]
    }
   ],
   "source": [
    "import json\n",
    "\n",
    "def load_json_dataset(json_path):\n",
    "    with open(json_path) as file:\n",
    "        dataset = json.load(file)\n",
    "    return dataset\n",
    "\n",
    "dataset = load_json_dataset('../data/antonym.json')\n",
    "dataset = list(map(lambda x: tuple(x.values()), dataset))\n",
    "print(f'dataset len: {len(dataset)}')\n",
    "\n",
    "\n",
    "####### TODO Delete #######\n",
    "dataset = dataset[:100]"
   ]
  },
  {
   "cell_type": "markdown",
   "metadata": {},
   "source": [
    "# models"
   ]
  },
  {
   "cell_type": "code",
   "execution_count": 398,
   "metadata": {},
   "outputs": [],
   "source": [
    "import sys\n",
    "sys.path.append('..')\n",
    "torch.set_grad_enabled(False)\n",
    "\n",
    "from src.utils.model_utils import load_gpt_model_and_tokenizer, set_seed, rsetattr, rgetattr\n",
    "from src.extraction import split_activation, extract_activations, get_mean_activations\n",
    "from src.utils.prompt_helper import build_prompt_txt, tokenize_from_template, tokenize_ICL\n",
    "set_seed(32)"
   ]
  },
  {
   "cell_type": "code",
   "execution_count": 399,
   "metadata": {},
   "outputs": [
    {
     "name": "stdout",
     "output_type": "stream",
     "text": [
      "GPT2LMHeadModel(\n",
      "  (transformer): GPT2Model(\n",
      "    (wte): Embedding(50257, 768)\n",
      "    (wpe): Embedding(1024, 768)\n",
      "    (drop): Dropout(p=0.1, inplace=False)\n",
      "    (h): ModuleList(\n",
      "      (0-11): 12 x GPT2Block(\n",
      "        (ln_1): LayerNorm((768,), eps=1e-05, elementwise_affine=True)\n",
      "        (attn): GPT2AttentionAltered(\n",
      "          (c_attn): Conv1D()\n",
      "          (c_proj): Conv1D()\n",
      "          (attn_dropout): Dropout(p=0.1, inplace=False)\n",
      "          (resid_dropout): Dropout(p=0.1, inplace=False)\n",
      "          (query): WrapperModule()\n",
      "          (key): WrapperModule()\n",
      "          (value): WrapperModule()\n",
      "        )\n",
      "        (ln_2): LayerNorm((768,), eps=1e-05, elementwise_affine=True)\n",
      "        (mlp): GPT2MLP(\n",
      "          (c_fc): Conv1D()\n",
      "          (c_proj): Conv1D()\n",
      "          (act): NewGELUActivation()\n",
      "          (dropout): Dropout(p=0.1, inplace=False)\n",
      "        )\n",
      "      )\n",
      "    )\n",
      "    (ln_f): LayerNorm((768,), eps=1e-05, elementwise_affine=True)\n",
      "  )\n",
      "  (lm_head): Linear(in_features=768, out_features=50257, bias=False)\n",
      ")\n",
      "{'n_heads': 12, 'n_layer': 12, 'd_model': 768, 'name': 'gpt2', 'layer_name': 'transformer.h', 'layer_hook_names': ['transformer.h.0', 'transformer.h.1', 'transformer.h.2', 'transformer.h.3', 'transformer.h.4', 'transformer.h.5', 'transformer.h.6', 'transformer.h.7', 'transformer.h.8', 'transformer.h.9', 'transformer.h.10', 'transformer.h.11'], 'attn_name': 'attn.c_proj', 'attn_hook_names': ['transformer.h.0.attn.c_proj', 'transformer.h.1.attn.c_proj', 'transformer.h.2.attn.c_proj', 'transformer.h.3.attn.c_proj', 'transformer.h.4.attn.c_proj', 'transformer.h.5.attn.c_proj', 'transformer.h.6.attn.c_proj', 'transformer.h.7.attn.c_proj', 'transformer.h.8.attn.c_proj', 'transformer.h.9.attn.c_proj', 'transformer.h.10.attn.c_proj', 'transformer.h.11.attn.c_proj']}\n"
     ]
    }
   ],
   "source": [
    "tokenizer = AutoTokenizer.from_pretrained(model_name)\n",
    "model, config = load_gpt_model_and_tokenizer(model_name)\n",
    "print(model)\n",
    "print(config)"
   ]
  },
  {
   "cell_type": "markdown",
   "metadata": {},
   "source": [
    "Calculate the average of the activation on the dataset to grasp any pattern that is task-dependant and not token-dependant \n",
    "\n",
    "Activations have the following shape (num_layers, num_heads, seq_len, d_head), being each OV circuit output.\n",
    "\n",
    "Still to answer:\n",
    "- How this is connected to the residual stream?"
   ]
  },
  {
   "cell_type": "markdown",
   "metadata": {},
   "source": [
    "Trying to use [nnsight](https://github.com/JadenFiotto-Kaufman/nnsight) and explore to know how it works"
   ]
  },
  {
   "cell_type": "code",
   "execution_count": 403,
   "metadata": {},
   "outputs": [
    {
     "name": "stdout",
     "output_type": "stream",
     "text": [
      "<|endoftext|>Q:flawed\n",
      "A:perfect\n",
      "\n",
      "Q:orthodox\n",
      "A:unorthodox\n",
      "\n",
      "Q:true\n",
      "A:\n",
      "false\n",
      "\n",
      "tensor([50256,    48,    25,  2704, 36825,   198,    32,    25, 25833,   628,\n",
      "           48,    25, 42539,   198,    32,    25,   403, 42539,   628,    48,\n",
      "           25,  7942,   198,    32,    25])\n",
      "[0, 1, 2, 4, 5, 6, 7, 8, 9, 10, 11, 12, 13, 14, 15, 17, 18, 19, 20, 21, 22, 23, 24]\n"
     ]
    }
   ],
   "source": [
    "# select number of ICL examples\n",
    "ICL_examples = 2\n",
    "\n",
    "###### TODO: REMEMBER TO SPLIT IN TRAIN and TEST####\n",
    "\n",
    "tok_ret, ids_ret, labels = tokenize_ICL(tokenizer, ICL_examples = ICL_examples, dataset = dataset)\n",
    "print(tokenizer.decode(tok_ret[0]))\n",
    "print(labels[0])\n",
    "print()\n",
    "print(tok_ret[0])\n",
    "print(ids_ret[0])"
   ]
  },
  {
   "cell_type": "markdown",
   "metadata": {},
   "source": [
    "___\n"
   ]
  },
  {
   "cell_type": "code",
   "execution_count": 411,
   "metadata": {},
   "outputs": [
    {
     "name": "stderr",
     "output_type": "stream",
     "text": [
      "extracting activations:   0%|          | 0/33 [00:00<?, ?it/s]"
     ]
    },
    {
     "name": "stderr",
     "output_type": "stream",
     "text": [
      "extracting activations: 100%|██████████| 33/33 [00:13<00:00,  2.44it/s]\n"
     ]
    },
    {
     "data": {
      "text/plain": [
       "torch.Size([12, 12, 23, 64])"
      ]
     },
     "execution_count": 411,
     "metadata": {},
     "output_type": "execute_result"
    }
   ],
   "source": [
    "mean_activations, outputs = get_mean_activations(\n",
    "    tokenized_prompts=tok_ret,\n",
    "    important_ids=ids_ret,\n",
    "    model=model,\n",
    "    config=config,\n",
    ")\n",
    "mean_activations.shape"
   ]
  },
  {
   "cell_type": "markdown",
   "metadata": {},
   "source": [
    "compute indirect effect"
   ]
  },
  {
   "cell_type": "code",
   "execution_count": 234,
   "metadata": {},
   "outputs": [],
   "source": [
    "import random\n",
    "\n",
    "def randomize_dataset(dataset):\n",
    "    # shuffle the second column (labels) and copy the original column to a third one keeping the correct label\n",
    "    shuffled = list(map(lambda x: x[1], dataset))\n",
    "    random.shuffle(shuffled)\n",
    "\n",
    "    new_dataset = list(\n",
    "        zip(\n",
    "            list(map(lambda x: x[0], dataset)),     # input x\n",
    "            shuffled,     # new shuffled label (that make no sense)\n",
    "            list(map(lambda x: x[1], dataset)),     # old correct label\n",
    "    ))\n",
    "    \n",
    "    return new_dataset"
   ]
  },
  {
   "cell_type": "code",
   "execution_count": 278,
   "metadata": {},
   "outputs": [
    {
     "name": "stdout",
     "output_type": "stream",
     "text": [
      "invalid\n",
      "<|endoftext|>Q:daily\n",
      "A:empty\n",
      "\n",
      "Q:distribution\n",
      "A:con\n",
      "\n",
      "Q:valid\n",
      "A:\n"
     ]
    }
   ],
   "source": []
  },
  {
   "cell_type": "code",
   "execution_count": 331,
   "metadata": {},
   "outputs": [],
   "source": [
    "# parameters: dataset, mean_activations, model, config, tokenizer, \n",
    "# n_shots: Number of shots in each in-context prompt\n",
    "# n_trials: Number of in-context prompts to average over\n",
    "\n",
    "\n",
    "def compute_indirect_effect(dataset, mean_activations, model, config, tokenizer):\n",
    "    # randomize prompts to make the model unable to guess the correct answer\n",
    "    randomized_dataset = randomize_dataset(dataset)\n",
    "\n",
    "    prompts_and_infos = tokenize_ICL(\n",
    "        tokenizer, \n",
    "        ICL_examples = ICL_examples, \n",
    "        dataset = randomized_dataset\n",
    "    )\n",
    "\n",
    "    # probabilities over vocab from the original model\n",
    "    probs_original = torch.zeros([len(randomized_dataset), config['vocab_size']])\n",
    "\n",
    "    for idx, (tokenized_prompt, important_ids, correct_label) in enumerate(zip(*prompts_and_infos)):\n",
    "        \n",
    "        # take the original result from the model (probability of correct response token y)\n",
    "        with model.invoke(rand_tok_ret) as invoker:\n",
    "            pass # no changes to make in the forward pass\n",
    "        logits = invoker.output.logits\n",
    "        logits = logits[0,-1,:] # select only the predicted token (i.e. the final token)\n",
    "        # store the probabilities for each token in vocab\n",
    "        probs_original[idx] = logits.softmax(dim=-1)\n",
    "\n",
    "        # for each layer i, for each head j in the model\n",
    "        for layer_i in config['n_layer']:\n",
    "            for head_j in config['n_head']:\n",
    "                replace_heads_w_avg(\n",
    "                    layers_heads = [layer_i, head_j],\n",
    "                    avg_activations = \n",
    "                    \n",
    "                )\n",
    "        #      substitute the head with the specific average activation\n",
    "        \n",
    "        # CIE(ij) = probability of correct_label token y (w/ modified model) - probability of correct_label token y (w/ original model)\n",
    "        #      e.g. CIE(ij) = 0.9 - 0.1 = 0.8      head has great effect\n",
    "        #      e.g. CIE(ij) = 0.3 - 0.1 = 0.2      head does not influence too much the output\n",
    "\n",
    "\n",
    "    \n",
    "    prob_original_model = 0\n",
    "    return rand_tok_ret[0], rand_ids_ret[0]\n",
    "\n",
    "\n",
    "    \n",
    "rand_tok_ret, rand_ids_ret  = compute_indirect_effect(\n",
    "    dataset=dataset[:200], \n",
    "    mean_activation=mean_activations,\n",
    "    model=model,\n",
    "    config=config,\n",
    "    tokenizer=tokenizer,\n",
    ")"
   ]
  },
  {
   "cell_type": "code",
   "execution_count": 344,
   "metadata": {},
   "outputs": [
    {
     "name": "stdout",
     "output_type": "stream",
     "text": [
      "torch.Size([1, 24, 50257])\n",
      "torch.Size([50257])\n",
      "torch.Size([50257])\n"
     ]
    }
   ],
   "source": [
    "def replace_heads_w_avg(layers_heads: list[tuple[int, int]], avg_activations: list[torch.tensor], important_ids: list[int], model, config):\n",
    "    \n",
    "    \"\"\"Replace the activation of specific heads (listed in layers_heads) with the avg_activation for each specific head (listed in avg_activations). \n",
    "    Than compute the output of the model with the new activations\n",
    "\n",
    "    Args:\n",
    "        layers_heads (list[tuple[int, int]]): list of tuples each containing a layer index, head index\n",
    "        avg_activations (list[torch.tensor]): list of activation for each head listed in layers_heads. The length must be the same of layers_heads\n",
    "        important_ids (list[int]): list of important indexes i.e. the tokens where the average must be substituted\n",
    "        model (): model\n",
    "        config (): model's config\n",
    "\n",
    "\n",
    "    Returns:\n",
    "        torch.Tensor: logits of the model (pre-softmax) with the replaced activations\n",
    "    \"\"\"\n",
    "\n",
    "    d_head = config['d_model'] // config['n_heads']\n",
    "\n",
    "    for num_layer, num_head in layers_heads:\n",
    "\n",
    "        with model.invoke(prompt) as invoker:\n",
    "            # TODO: must substitute only certain indexes\n",
    "\n",
    "            config['attn_hook_names'][num_layer].output[\n",
    "                num_head * d_head : (num_head + 1) * d_head\n",
    "            ] = avg_activations[num_layer, num_head]\n",
    "        \n",
    "        probs = invoker.output.logits[0,-1,:].softmax(dim=-1)\n",
    "\n",
    "\n",
    "    return 1==1"
   ]
  },
  {
   "cell_type": "code",
   "execution_count": 393,
   "metadata": {},
   "outputs": [
    {
     "data": {
      "text/plain": [
       "GPT2AttentionAltered(\n",
       "  (c_attn): Conv1D()\n",
       "  (c_proj): Conv1D()\n",
       "  (attn_dropout): Dropout(p=0.1, inplace=False)\n",
       "  (resid_dropout): Dropout(p=0.1, inplace=False)\n",
       "  (query): WrapperModule()\n",
       "  (key): WrapperModule()\n",
       "  (value): WrapperModule()\n",
       ")"
      ]
     },
     "execution_count": 393,
     "metadata": {},
     "output_type": "execute_result"
    }
   ],
   "source": [
    "rgetattr(model, 'transformer.h.0.attn')"
   ]
  },
  {
   "cell_type": "code",
   "execution_count": 397,
   "metadata": {},
   "outputs": [
    {
     "ename": "AttributeError",
     "evalue": "'Conv1D' object has no attribute 'output'",
     "output_type": "error",
     "traceback": [
      "\u001b[0;31m---------------------------------------------------------------------------\u001b[0m",
      "\u001b[0;31mAttributeError\u001b[0m                            Traceback (most recent call last)",
      "Cell \u001b[0;32mIn[397], line 2\u001b[0m\n\u001b[1;32m      1\u001b[0m \u001b[38;5;28;01mfor\u001b[39;00m layer_name \u001b[38;5;129;01min\u001b[39;00m config[\u001b[38;5;124m'\u001b[39m\u001b[38;5;124mattn_hook_names\u001b[39m\u001b[38;5;124m'\u001b[39m]:\n\u001b[0;32m----> 2\u001b[0m     \u001b[43mrgetattr\u001b[49m\u001b[43m(\u001b[49m\u001b[43mmodel\u001b[49m\u001b[43m,\u001b[49m\u001b[43m \u001b[49m\u001b[43mlayer_name\u001b[49m\u001b[43m)\u001b[49m\u001b[38;5;241;43m.\u001b[39;49m\u001b[43moutput\u001b[49m\n",
      "File \u001b[0;32m~/Documents/Work/research/general-task-vectors/.venv/lib/python3.9/site-packages/torch/nn/modules/module.py:1695\u001b[0m, in \u001b[0;36mModule.__getattr__\u001b[0;34m(self, name)\u001b[0m\n\u001b[1;32m   1693\u001b[0m     \u001b[38;5;28;01mif\u001b[39;00m name \u001b[38;5;129;01min\u001b[39;00m modules:\n\u001b[1;32m   1694\u001b[0m         \u001b[38;5;28;01mreturn\u001b[39;00m modules[name]\n\u001b[0;32m-> 1695\u001b[0m \u001b[38;5;28;01mraise\u001b[39;00m \u001b[38;5;167;01mAttributeError\u001b[39;00m(\u001b[38;5;124mf\u001b[39m\u001b[38;5;124m\"\u001b[39m\u001b[38;5;124m'\u001b[39m\u001b[38;5;132;01m{\u001b[39;00m\u001b[38;5;28mtype\u001b[39m(\u001b[38;5;28mself\u001b[39m)\u001b[38;5;241m.\u001b[39m\u001b[38;5;18m__name__\u001b[39m\u001b[38;5;132;01m}\u001b[39;00m\u001b[38;5;124m'\u001b[39m\u001b[38;5;124m object has no attribute \u001b[39m\u001b[38;5;124m'\u001b[39m\u001b[38;5;132;01m{\u001b[39;00mname\u001b[38;5;132;01m}\u001b[39;00m\u001b[38;5;124m'\u001b[39m\u001b[38;5;124m\"\u001b[39m)\n",
      "\u001b[0;31mAttributeError\u001b[0m: 'Conv1D' object has no attribute 'output'"
     ]
    }
   ],
   "source": [
    "for layer_name in config['attn_hook_names']:\n",
    "    rgetattr(model, layer_name).output"
   ]
  },
  {
   "cell_type": "code",
   "execution_count": 384,
   "metadata": {},
   "outputs": [
    {
     "ename": "AttributeError",
     "evalue": "'GPT2LMHeadModel' object has no attribute 'transformer.h'",
     "output_type": "error",
     "traceback": [
      "\u001b[0;31m---------------------------------------------------------------------------\u001b[0m",
      "\u001b[0;31mAttributeError\u001b[0m                            Traceback (most recent call last)",
      "Cell \u001b[0;32mIn[384], line 2\u001b[0m\n\u001b[1;32m      1\u001b[0m \u001b[38;5;28mgetattr\u001b[39m(\n\u001b[0;32m----> 2\u001b[0m     \u001b[38;5;28;43mgetattr\u001b[39;49m\u001b[43m(\u001b[49m\u001b[43mmodel\u001b[49m\u001b[43m,\u001b[49m\u001b[43m \u001b[49m\u001b[43mconfig\u001b[49m\u001b[43m[\u001b[49m\u001b[38;5;124;43m'\u001b[39;49m\u001b[38;5;124;43mpre-layer-module-name\u001b[39;49m\u001b[38;5;124;43m'\u001b[39;49m\u001b[43m]\u001b[49m\u001b[43m)\u001b[49m[\u001b[38;5;241m0\u001b[39m],\n\u001b[1;32m      3\u001b[0m     config[\u001b[38;5;124m'\u001b[39m\u001b[38;5;124mpost-layer-module-name\u001b[39m\u001b[38;5;124m'\u001b[39m]\n\u001b[1;32m      4\u001b[0m )\n",
      "File \u001b[0;32m~/Documents/Work/research/general-task-vectors/.venv/lib/python3.9/site-packages/nnsight/models/AbstractModel.py:139\u001b[0m, in \u001b[0;36mAbstractModel.__getattr__\u001b[0;34m(self, key)\u001b[0m\n\u001b[1;32m    130\u001b[0m \u001b[38;5;28;01mdef\u001b[39;00m \u001b[38;5;21m__getattr__\u001b[39m(\u001b[38;5;28mself\u001b[39m, key: Any) \u001b[38;5;241m-\u001b[39m\u001b[38;5;241m>\u001b[39m Any:\n\u001b[1;32m    131\u001b[0m \u001b[38;5;250m    \u001b[39m\u001b[38;5;124;03m\"\"\"Allows access of sub-modules on meta_model directly from AbstractModel object\u001b[39;00m\n\u001b[1;32m    132\u001b[0m \n\u001b[1;32m    133\u001b[0m \u001b[38;5;124;03m    Args:\u001b[39;00m\n\u001b[0;32m   (...)\u001b[0m\n\u001b[1;32m    137\u001b[0m \u001b[38;5;124;03m        Any: Attribute.\u001b[39;00m\n\u001b[1;32m    138\u001b[0m \u001b[38;5;124;03m    \"\"\"\u001b[39;00m\n\u001b[0;32m--> 139\u001b[0m     \u001b[38;5;28;01mreturn\u001b[39;00m \u001b[38;5;28;43mgetattr\u001b[39;49m\u001b[43m(\u001b[49m\u001b[38;5;28;43mself\u001b[39;49m\u001b[38;5;241;43m.\u001b[39;49m\u001b[43mmeta_model\u001b[49m\u001b[43m,\u001b[49m\u001b[43m \u001b[49m\u001b[43mkey\u001b[49m\u001b[43m)\u001b[49m\n",
      "File \u001b[0;32m~/Documents/Work/research/general-task-vectors/.venv/lib/python3.9/site-packages/torch/nn/modules/module.py:1695\u001b[0m, in \u001b[0;36mModule.__getattr__\u001b[0;34m(self, name)\u001b[0m\n\u001b[1;32m   1693\u001b[0m     \u001b[38;5;28;01mif\u001b[39;00m name \u001b[38;5;129;01min\u001b[39;00m modules:\n\u001b[1;32m   1694\u001b[0m         \u001b[38;5;28;01mreturn\u001b[39;00m modules[name]\n\u001b[0;32m-> 1695\u001b[0m \u001b[38;5;28;01mraise\u001b[39;00m \u001b[38;5;167;01mAttributeError\u001b[39;00m(\u001b[38;5;124mf\u001b[39m\u001b[38;5;124m\"\u001b[39m\u001b[38;5;124m'\u001b[39m\u001b[38;5;132;01m{\u001b[39;00m\u001b[38;5;28mtype\u001b[39m(\u001b[38;5;28mself\u001b[39m)\u001b[38;5;241m.\u001b[39m\u001b[38;5;18m__name__\u001b[39m\u001b[38;5;132;01m}\u001b[39;00m\u001b[38;5;124m'\u001b[39m\u001b[38;5;124m object has no attribute \u001b[39m\u001b[38;5;124m'\u001b[39m\u001b[38;5;132;01m{\u001b[39;00mname\u001b[38;5;132;01m}\u001b[39;00m\u001b[38;5;124m'\u001b[39m\u001b[38;5;124m\"\u001b[39m)\n",
      "\u001b[0;31mAttributeError\u001b[0m: 'GPT2LMHeadModel' object has no attribute 'transformer.h'"
     ]
    }
   ],
   "source": [
    "\n",
    "getattr(\n",
    "    getattr(model, config['pre-layer-module-name'])[0],\n",
    "    config['post-layer-module-name']\n",
    ")"
   ]
  },
  {
   "cell_type": "code",
   "execution_count": 363,
   "metadata": {},
   "outputs": [
    {
     "data": {
      "text/plain": [
       "{'n_heads': 12,\n",
       " 'n_layer': 12,\n",
       " 'd_model': 768,\n",
       " 'name': 'gpt2',\n",
       " 'layer_name': 'transformer.h',\n",
       " 'layer_hook_names': ['transformer.h.0',\n",
       "  'transformer.h.1',\n",
       "  'transformer.h.2',\n",
       "  'transformer.h.3',\n",
       "  'transformer.h.4',\n",
       "  'transformer.h.5',\n",
       "  'transformer.h.6',\n",
       "  'transformer.h.7',\n",
       "  'transformer.h.8',\n",
       "  'transformer.h.9',\n",
       "  'transformer.h.10',\n",
       "  'transformer.h.11'],\n",
       " 'attn_name': 'attn.c_proj',\n",
       " 'attn_hook_names': ['transformer.h.0.attn.c_proj',\n",
       "  'transformer.h.1.attn.c_proj',\n",
       "  'transformer.h.2.attn.c_proj',\n",
       "  'transformer.h.3.attn.c_proj',\n",
       "  'transformer.h.4.attn.c_proj',\n",
       "  'transformer.h.5.attn.c_proj',\n",
       "  'transformer.h.6.attn.c_proj',\n",
       "  'transformer.h.7.attn.c_proj',\n",
       "  'transformer.h.8.attn.c_proj',\n",
       "  'transformer.h.9.attn.c_proj',\n",
       "  'transformer.h.10.attn.c_proj',\n",
       "  'transformer.h.11.attn.c_proj']}"
      ]
     },
     "execution_count": 363,
     "metadata": {},
     "output_type": "execute_result"
    }
   ],
   "source": [
    "config"
   ]
  },
  {
   "cell_type": "code",
   "execution_count": 374,
   "metadata": {},
   "outputs": [
    {
     "data": {
      "text/plain": [
       "tensor([ 64.,  65.,  66.,  67.,  68.,  69.,  70.,  71.,  72.,  73.,  74.,  75.,\n",
       "         76.,  77.,  78.,  79.,  80.,  81.,  82.,  83.,  84.,  85.,  86.,  87.,\n",
       "         88.,  89.,  90.,  91.,  92.,  93.,  94.,  95.,  96.,  97.,  98.,  99.,\n",
       "        100., 101., 102., 103., 104., 105., 106., 107., 108., 109., 110., 111.,\n",
       "        112., 113., 114., 115., 116., 117., 118., 119., 120., 121., 122., 123.,\n",
       "        124., 125., 126., 127.])"
      ]
     },
     "execution_count": 374,
     "metadata": {},
     "output_type": "execute_result"
    }
   ],
   "source": [
    "import numpy as np\n",
    "\n",
    "d_head = config['d_model'] // config['n_heads']\n",
    "n_head = 1\n",
    "a = torch.Tensor(np.arange(768))\n",
    "a"
   ]
  },
  {
   "cell_type": "code",
   "execution_count": 372,
   "metadata": {},
   "outputs": [
    {
     "data": {
      "text/plain": [
       "64"
      ]
     },
     "execution_count": 372,
     "metadata": {},
     "output_type": "execute_result"
    }
   ],
   "source": [
    "d_head"
   ]
  },
  {
   "cell_type": "code",
   "execution_count": 284,
   "metadata": {},
   "outputs": [
    {
     "data": {
      "text/plain": [
       "torch.Size([12, 12])"
      ]
     },
     "execution_count": 284,
     "metadata": {},
     "output_type": "execute_result"
    }
   ],
   "source": [
    "torch.zeros(size = [config['n_layer'], config['n_heads']]).shape"
   ]
  }
 ],
 "metadata": {
  "kernelspec": {
   "display_name": ".venv",
   "language": "python",
   "name": "python3"
  },
  "language_info": {
   "codemirror_mode": {
    "name": "ipython",
    "version": 3
   },
   "file_extension": ".py",
   "mimetype": "text/x-python",
   "name": "python",
   "nbconvert_exporter": "python",
   "pygments_lexer": "ipython3",
   "version": "3.9.15"
  }
 },
 "nbformat": 4,
 "nbformat_minor": 2
}
